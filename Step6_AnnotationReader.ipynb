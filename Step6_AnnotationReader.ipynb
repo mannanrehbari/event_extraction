{
 "cells": [
  {
   "cell_type": "markdown",
   "id": "86e16086",
   "metadata": {},
   "source": [
    "**Parsing annotations for Entities and Events from the .ann files**\n",
    "\n",
    "- This class handles reading the .ann files that are provided in the standoff/full directory\n",
    "- .ann files have both entities and events\n",
    "- Each unique line that has an entity starts with T \n",
    "- Each unique line that has an event starts with E\n"
   ]
  },
  {
   "cell_type": "code",
   "execution_count": 1,
   "id": "750e994b",
   "metadata": {},
   "outputs": [],
   "source": [
    "class AnnotationReader:\n",
    "    def __init__(self, filePath):\n",
    "        self.filePath = filePath\n",
    "    \n",
    "    def readAnnotations(self):\n",
    "        with open(self.filePath, 'r', encoding='utf-8') as file:\n",
    "            return file.read()\n",
    "    \n",
    "    def parseAnnotations(self, content):\n",
    "        entities = {}\n",
    "        events = {}\n",
    "        \n",
    "        for line in content.strip().split('\\n'):\n",
    "            if line.startswith('T'):\n",
    "                parts = line.split('\\t')\n",
    "                if len(parts) != 3:\n",
    "                    continue;\n",
    "                entityId, entityInfo, _ = parts\n",
    "                entityType, start, end = entityInfo.split(' ')\n",
    "                entities[entityId] = {'type': entityType, 'span': (int(start), int(end))}\n",
    "            elif line.startswith('E'):\n",
    "                parts = line.split('\\t')\n",
    "                eventId, eventInfo = parts\n",
    "                eventInfoParts = eventInfo.split(' ')\n",
    "                if len(eventInfoParts) != 3:\n",
    "                    continue\n",
    "                eventTypeTrigger = eventInfoParts[0].split(':')\n",
    "                eventArgs = [arg.split(':') for arg in eventInfoParts[1:]]\n",
    "                events[eventId] = {'type': eventTypeTrigger[0], 'trigger': eventTypeTrigger[1], 'args': eventArgs}\n",
    "        return entities, events"
   ]
  },
  {
   "cell_type": "code",
   "execution_count": 2,
   "id": "634030ea",
   "metadata": {},
   "outputs": [
    {
     "name": "stdout",
     "output_type": "stream",
     "text": [
      "{'T2': {'type': 'Cell', 'span': (46, 62)}, 'T3': {'type': 'Multi-tissue_structure', 'span': (76, 84)}, 'T4': {'type': 'Anatomical_system', 'span': (217, 239)}, 'T5': {'type': 'Cell', 'span': (249, 260)}, 'T6': {'type': 'Multi-tissue_structure', 'span': (275, 288)}, 'T7': {'type': 'Multi-tissue_structure', 'span': (396, 404)}, 'T9': {'type': 'Cell', 'span': (474, 490)}, 'T10': {'type': 'Multi-tissue_structure', 'span': (623, 631)}, 'T11': {'type': 'Tissue', 'span': (659, 676)}, 'T12': {'type': 'Gene_or_gene_product', 'span': (712, 723)}, 'T13': {'type': 'Gene_or_gene_product', 'span': (1075, 1083)}, 'T14': {'type': 'Cell', 'span': (1088, 1099)}, 'T15': {'type': 'Cellular_component', 'span': (1156, 1176)}, 'T16': {'type': 'Cell', 'span': (1181, 1197)}, 'T17': {'type': 'Tissue', 'span': (1275, 1286)}, 'T18': {'type': 'Tissue', 'span': (1314, 1325)}, 'T19': {'type': 'Cell', 'span': (1394, 1411)}, 'T21': {'type': 'Cell', 'span': (1442, 1458)}, 'T22': {'type': 'Gene_or_gene_product', 'span': (1564, 1572)}, 'T23': {'type': 'Gene_or_gene_product', 'span': (1577, 1588)}, 'T25': {'type': 'Cell', 'span': (1697, 1713)}, 'T26': {'type': 'Pathological_formation', 'span': (1729, 1735)}, 'T29': {'type': 'Cell', 'span': (1958, 1974)}, 'T30': {'type': 'Anatomical_system', 'span': (2004, 2026)}, 'T1': {'type': 'Tissue', 'span': (103, 108)}, 'T8': {'type': 'Tissue', 'span': (777, 782)}, 'T1000': {'type': 'Organism', 'span': (72, 75)}, 'T1001': {'type': 'Organism', 'span': (392, 395)}, 'T1002': {'type': 'Organism', 'span': (2000, 2003)}, 'T35': {'type': 'Tissue', 'span': (1042, 1048)}, 'T36': {'type': 'Tissue', 'span': (1222, 1228)}, 'T37': {'type': 'Tissue', 'span': (1234, 1240)}, 'T40': {'type': 'Tissue', 'span': (1608, 1614)}, 'T42': {'type': 'Tissue', 'span': (1762, 1767)}, 'T43': {'type': 'Tissue', 'span': (1865, 1871)}, 'T45': {'type': 'Cellular_component', 'span': (1111, 1132)}, 'T46': {'type': 'Cellular_component', 'span': (1137, 1145)}, 'T28': {'type': 'Cell', 'span': (164, 168)}, 'T47': {'type': 'Cell', 'span': (823, 827)}, 'T48': {'type': 'Cell', 'span': (342, 347)}, 'T49': {'type': 'Cell', 'span': (546, 551)}, 'T52': {'type': 'Cell', 'span': (895, 900)}, 'T27': {'type': 'Blood_vessel_development', 'span': (1877, 1889)}, 'T20': {'type': 'Planned_process', 'span': (0, 22)}, 'T24': {'type': 'Planned_process', 'span': (352, 374)}, 'T31': {'type': 'Planned_process', 'span': (261, 269)}, 'T32': {'type': 'Planned_process', 'span': (457, 465)}, 'T33': {'type': 'Cell_proliferation', 'span': (500, 511)}, 'T34': {'type': 'Planned_process', 'span': (599, 611)}, 'T38': {'type': 'Death', 'span': (1471, 1478)}, 'T39': {'type': 'Gene_expression', 'span': (1553, 1563)}, 'T41': {'type': 'Development', 'span': (1721, 1728)}, 'T44': {'type': 'Planned_process', 'span': (1975, 1982)}, 'T50': {'type': 'Binding', 'span': (561, 568)}, 'T51': {'type': 'Negative_regulation', 'span': (569, 578)}, 'T53': {'type': 'Planned_process', 'span': (882, 890)}, 'T54': {'type': 'Planned_process', 'span': (922, 929)}, 'T55': {'type': 'Planned_process', 'span': (939, 947)}}\n",
      "*************\n",
      "{'E1': {'type': 'Planned_process', 'trigger': 'T20', 'args': [['Instrument', 'T2'], ['Theme', 'T3']]}, 'E2': {'type': 'Planned_process', 'trigger': 'T24', 'args': [['Theme', 'T7'], ['Instrument', 'T48']]}, 'E7': {'type': 'Planned_process', 'trigger': 'T34', 'args': [['Theme', 'T10'], ['Instrument', 'T11']]}, 'E12': {'type': 'Planned_process', 'trigger': 'T44', 'args': [['Instrument', 'T29'], ['Theme', 'T30']]}}\n"
     ]
    }
   ],
   "source": [
    "annotationReader = AnnotationReader('../BME Corpora/MLEE-1.0.2-rev1/standoff/full/PMID-1869637.ann')\n",
    "annotationContent = annotationReader.readAnnotations()\n",
    "entities, events = annotationReader.parseAnnotations(annotationContent)\n",
    "\n",
    "print(entities)\n",
    "print(\"*************\")\n",
    "print(events)"
   ]
  }
 ],
 "metadata": {
  "kernelspec": {
   "display_name": "Python 3 (ipykernel)",
   "language": "python",
   "name": "python3"
  },
  "language_info": {
   "codemirror_mode": {
    "name": "ipython",
    "version": 3
   },
   "file_extension": ".py",
   "mimetype": "text/x-python",
   "name": "python",
   "nbconvert_exporter": "python",
   "pygments_lexer": "ipython3",
   "version": "3.9.13"
  }
 },
 "nbformat": 4,
 "nbformat_minor": 5
}
