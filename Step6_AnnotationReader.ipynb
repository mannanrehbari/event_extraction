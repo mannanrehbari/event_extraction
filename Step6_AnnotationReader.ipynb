{
 "cells": [
  {
   "cell_type": "markdown",
   "id": "86e16086",
   "metadata": {},
   "source": [
    "**Parsing annotations for Entities and Events from the .ann files**\n",
    "\n",
    "- This class handles reading the .ann files that are provided in the standoff/full directory\n",
    "- .ann files have both entities and events\n",
    "- Each unique line that has an entity starts with T \n",
    "- Each unique line that has an event starts with E\n"
   ]
  },
  {
   "cell_type": "code",
   "execution_count": 1,
   "id": "b5e8b520",
   "metadata": {},
   "outputs": [],
   "source": [
    "import os"
   ]
  },
  {
   "cell_type": "code",
   "execution_count": 2,
   "id": "750e994b",
   "metadata": {},
   "outputs": [],
   "source": [
    "class AnnotationReader:\n",
    "    def __init__(self):\n",
    "        pass\n",
    "    \n",
    "    def readAnnotations(self, filePath):\n",
    "        with open(filePath, 'r', encoding='utf-8') as file:\n",
    "            return file.read()\n",
    "    \n",
    "    def parseAnnotations(self, content):\n",
    "        entities = {}\n",
    "        events = {}\n",
    "        \n",
    "        for line in content.strip().split('\\n'):\n",
    "            if line.startswith('T'):\n",
    "                parts = line.split('\\t')\n",
    "                if len(parts) != 3:\n",
    "                    continue;\n",
    "                entityId, entityInfo, entityName = parts\n",
    "                entityType, start, end = entityInfo.split(' ')\n",
    "                entities[entityId] = {'type': entityType, 'span': (int(start), int(end)), 'entity': entityName}\n",
    "            elif line.startswith('E'):\n",
    "                parts = line.split('\\t')\n",
    "                eventId, eventInfo = parts\n",
    "                eventInfoParts = eventInfo.split(' ')\n",
    "                if len(eventInfoParts) != 3:\n",
    "                    continue\n",
    "                eventTypeTrigger = eventInfoParts[0].split(':')\n",
    "                eventArgs = [arg.split(':') for arg in eventInfoParts[1:]]\n",
    "                events[eventId] = {'type': eventTypeTrigger[0], 'trigger': eventTypeTrigger[1], 'args': eventArgs}\n",
    "        return entities, events\n",
    "    \n",
    "    def countTotalEvents(self, baseDir):\n",
    "        totalTriggers = 0\n",
    "        for root, dirs, files in os.walk(baseDir):\n",
    "            for file in files:\n",
    "            # Check if the file has .ann extension\n",
    "                if file.endswith(\".ann\"):\n",
    "                    file_path = os.path.join(root, file)\n",
    "                    with open(file_path, 'r') as f:\n",
    "                        content = f.read()\n",
    "                        entities, events = self.parseAnnotations(content)\n",
    "                        triggerCount = len(events)\n",
    "                        totalTriggers += triggerCount\n",
    "        return f\"Total Trigger count: {totalTriggers}\"\n",
    "        "
   ]
  },
  {
   "cell_type": "code",
   "execution_count": 3,
   "id": "634030ea",
   "metadata": {},
   "outputs": [
    {
     "name": "stdout",
     "output_type": "stream",
     "text": [
      "Total Trigger count: 2444\n"
     ]
    }
   ],
   "source": [
    "baseDir = '../BME Corpora/MLEE-1.0.2-rev1/standoff/full/'\n",
    "annotationReader = AnnotationReader()\n",
    "triggerCount = annotationReader.countTotalEvents(baseDir)\n",
    "print(triggerCount)"
   ]
  }
 ],
 "metadata": {
  "kernelspec": {
   "display_name": "Python 3 (ipykernel)",
   "language": "python",
   "name": "python3"
  },
  "language_info": {
   "codemirror_mode": {
    "name": "ipython",
    "version": 3
   },
   "file_extension": ".py",
   "mimetype": "text/x-python",
   "name": "python",
   "nbconvert_exporter": "python",
   "pygments_lexer": "ipython3",
   "version": "3.9.13"
  }
 },
 "nbformat": 4,
 "nbformat_minor": 5
}
