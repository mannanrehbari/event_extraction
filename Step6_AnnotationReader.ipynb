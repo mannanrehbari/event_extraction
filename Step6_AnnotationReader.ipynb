{
 "cells": [
  {
   "cell_type": "markdown",
   "id": "86e16086",
   "metadata": {},
   "source": [
    "**Parsing annotations for Entities and Events from the .ann files**\n",
    "\n",
    "- This class handles reading the .ann files that are provided in the standoff/full directory\n",
    "- .ann files have both entities and events\n",
    "- Each unique line that has an entity starts with T \n",
    "- Each unique line that has an event starts with E\n"
   ]
  },
  {
   "cell_type": "code",
   "execution_count": 1,
   "id": "750e994b",
   "metadata": {},
   "outputs": [],
   "source": [
    "class AnnotationReader:\n",
    "    def __init__(self, filePath):\n",
    "        self.filePath = filePath\n",
    "    \n",
    "    def readAnnotations(self):\n",
    "        with open(self.filePath, 'r', encoding='utf-8') as file:\n",
    "            return file.read()\n",
    "    \n",
    "    def parseAnnotations(self, content):\n",
    "        entities = {}\n",
    "        events = {}\n",
    "        \n",
    "        for line in content.strip().split('\\n'):\n",
    "            if line.startswith('T'):\n",
    "                parts = line.split('\\t')\n",
    "                if len(parts) != 3:\n",
    "                    continue;\n",
    "                entityId, entityInfo, entityName = parts\n",
    "                entityType, start, end = entityInfo.split(' ')\n",
    "                entities[entityId] = {'type': entityType, 'span': (int(start), int(end)), 'entity': entityName}\n",
    "            elif line.startswith('E'):\n",
    "                parts = line.split('\\t')\n",
    "                eventId, eventInfo = parts\n",
    "                eventInfoParts = eventInfo.split(' ')\n",
    "                if len(eventInfoParts) != 3:\n",
    "                    continue\n",
    "                eventTypeTrigger = eventInfoParts[0].split(':')\n",
    "                eventArgs = [arg.split(':') for arg in eventInfoParts[1:]]\n",
    "                events[eventId] = {'type': eventTypeTrigger[0], 'trigger': eventTypeTrigger[1], 'args': eventArgs}\n",
    "        return entities, events"
   ]
  },
  {
   "cell_type": "code",
   "execution_count": 2,
   "id": "634030ea",
   "metadata": {},
   "outputs": [
    {
     "name": "stdout",
     "output_type": "stream",
     "text": [
      "{'T2': {'type': 'Cell', 'span': (46, 62), 'entity': 'skin fibroblasts'}, 'T3': {'type': 'Multi-tissue_structure', 'span': (76, 84), 'entity': 'striatum'}, 'T4': {'type': 'Anatomical_system', 'span': (217, 239), 'entity': 'central nervous system'}, 'T5': {'type': 'Cell', 'span': (249, 260), 'entity': 'fibroblasts'}, 'T6': {'type': 'Multi-tissue_structure', 'span': (275, 288), 'entity': 'skin biopsies'}, 'T7': {'type': 'Multi-tissue_structure', 'span': (396, 404), 'entity': 'striatum'}, 'T9': {'type': 'Cell', 'span': (474, 490), 'entity': 'skin fibroblasts'}, 'T10': {'type': 'Multi-tissue_structure', 'span': (623, 631), 'entity': 'striatum'}, 'T11': {'type': 'Tissue', 'span': (659, 676), 'entity': 'fibroblast grafts'}, 'T12': {'type': 'Gene_or_gene_product', 'span': (712, 723), 'entity': 'fibronectin'}, 'T13': {'type': 'Gene_or_gene_product', 'span': (1075, 1083), 'entity': 'collagen'}, 'T14': {'type': 'Cell', 'span': (1088, 1099), 'entity': 'fibroblasts'}, 'T15': {'type': 'Cellular_component', 'span': (1156, 1176), 'entity': 'astrocytic processes'}, 'T16': {'type': 'Cell', 'span': (1181, 1197), 'entity': 'phagocytic cells'}, 'T17': {'type': 'Tissue', 'span': (1275, 1286), 'entity': 'capillaries'}, 'T18': {'type': 'Tissue', 'span': (1314, 1325), 'entity': 'endothelium'}, 'T19': {'type': 'Cell', 'span': (1394, 1411), 'entity': 'endothelial cells'}, 'T21': {'type': 'Cell', 'span': (1442, 1458), 'entity': 'skin fibroblasts'}, 'T22': {'type': 'Gene_or_gene_product', 'span': (1564, 1572), 'entity': 'collagen'}, 'T23': {'type': 'Gene_or_gene_product', 'span': (1577, 1588), 'entity': 'fibronectin'}, 'T25': {'type': 'Cell', 'span': (1697, 1713), 'entity': 'skin fibroblasts'}, 'T26': {'type': 'Pathological_formation', 'span': (1729, 1735), 'entity': 'tumors'}, 'T29': {'type': 'Cell', 'span': (1958, 1974), 'entity': 'skin fibroblasts'}, 'T30': {'type': 'Anatomical_system', 'span': (2004, 2026), 'entity': 'central nervous system'}, 'T1': {'type': 'Tissue', 'span': (103, 108), 'entity': 'graft'}, 'T8': {'type': 'Tissue', 'span': (777, 782), 'entity': 'graft'}, 'T1000': {'type': 'Organism', 'span': (72, 75), 'entity': 'rat'}, 'T1001': {'type': 'Organism', 'span': (392, 395), 'entity': 'rat'}, 'T1002': {'type': 'Organism', 'span': (2000, 2003), 'entity': 'rat'}, 'T35': {'type': 'Tissue', 'span': (1042, 1048), 'entity': 'grafts'}, 'T36': {'type': 'Tissue', 'span': (1222, 1228), 'entity': 'grafts'}, 'T37': {'type': 'Tissue', 'span': (1234, 1240), 'entity': 'grafts'}, 'T40': {'type': 'Tissue', 'span': (1608, 1614), 'entity': 'grafts'}, 'T42': {'type': 'Tissue', 'span': (1762, 1767), 'entity': 'graft'}, 'T43': {'type': 'Tissue', 'span': (1865, 1871), 'entity': 'grafts'}, 'T45': {'type': 'Cellular_component', 'span': (1111, 1132), 'entity': 'endoplasmic reticulum'}, 'T46': {'type': 'Cellular_component', 'span': (1137, 1145), 'entity': 'vesicles'}, 'T28': {'type': 'Cell', 'span': (164, 168), 'entity': 'cell'}, 'T47': {'type': 'Cell', 'span': (823, 827), 'entity': 'cell'}, 'T48': {'type': 'Cell', 'span': (342, 347), 'entity': 'cells'}, 'T49': {'type': 'Cell', 'span': (546, 551), 'entity': 'cells'}, 'T52': {'type': 'Cell', 'span': (895, 900), 'entity': 'cells'}, 'T27': {'type': 'Blood_vessel_development', 'span': (1877, 1889), 'entity': 'angiogenesis'}, 'T20': {'type': 'Planned_process', 'span': (0, 22), 'entity': 'Intracerebral grafting'}, 'T24': {'type': 'Planned_process', 'span': (352, 374), 'entity': 'intracerebral grafting'}, 'T31': {'type': 'Planned_process', 'span': (261, 269), 'entity': 'isolated'}, 'T32': {'type': 'Planned_process', 'span': (457, 465), 'entity': 'cultured'}, 'T33': {'type': 'Cell_proliferation', 'span': (500, 511), 'entity': 'proliferate'}, 'T34': {'type': 'Planned_process', 'span': (599, 611), 'entity': 'implantation'}, 'T38': {'type': 'Death', 'span': (1471, 1478), 'entity': 'survive'}, 'T39': {'type': 'Gene_expression', 'span': (1553, 1563), 'entity': 'synthesize'}, 'T41': {'type': 'Development', 'span': (1721, 1728), 'entity': 'produce'}, 'T44': {'type': 'Planned_process', 'span': (1975, 1982), 'entity': 'grafted'}, 'T50': {'type': 'Binding', 'span': (561, 568), 'entity': 'contact'}, 'T51': {'type': 'Negative_regulation', 'span': (569, 578), 'entity': 'inhibited'}, 'T53': {'type': 'Planned_process', 'span': (882, 890), 'entity': 'passages'}, 'T54': {'type': 'Planned_process', 'span': (922, 929), 'entity': 'culture'}, 'T55': {'type': 'Planned_process', 'span': (939, 947), 'entity': 'grafting'}}\n",
      "*************\n",
      "{'E1': {'type': 'Planned_process', 'trigger': 'T20', 'args': [['Instrument', 'T2'], ['Theme', 'T3']]}, 'E2': {'type': 'Planned_process', 'trigger': 'T24', 'args': [['Theme', 'T7'], ['Instrument', 'T48']]}, 'E7': {'type': 'Planned_process', 'trigger': 'T34', 'args': [['Theme', 'T10'], ['Instrument', 'T11']]}, 'E12': {'type': 'Planned_process', 'trigger': 'T44', 'args': [['Instrument', 'T29'], ['Theme', 'T30']]}}\n"
     ]
    }
   ],
   "source": [
    "annotationReader = AnnotationReader('../BME Corpora/MLEE-1.0.2-rev1/standoff/full/PMID-1869637.ann')\n",
    "annotationContent = annotationReader.readAnnotations()\n",
    "entities, events = annotationReader.parseAnnotations(annotationContent)\n",
    "\n",
    "print(entities)\n",
    "print(\"*************\")\n",
    "print(events)"
   ]
  }
 ],
 "metadata": {
  "kernelspec": {
   "display_name": "Python 3 (ipykernel)",
   "language": "python",
   "name": "python3"
  },
  "language_info": {
   "codemirror_mode": {
    "name": "ipython",
    "version": 3
   },
   "file_extension": ".py",
   "mimetype": "text/x-python",
   "name": "python",
   "nbconvert_exporter": "python",
   "pygments_lexer": "ipython3",
   "version": "3.9.13"
  }
 },
 "nbformat": 4,
 "nbformat_minor": 5
}
