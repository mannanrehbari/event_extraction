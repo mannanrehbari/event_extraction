{
 "cells": [
  {
   "cell_type": "markdown",
   "id": "66cc4b0f",
   "metadata": {},
   "source": [
    "**Stanford POS Tagger**"
   ]
  },
  {
   "cell_type": "code",
   "execution_count": null,
   "id": "3f2441e2",
   "metadata": {},
   "outputs": [],
   "source": [
    "import nltk\n",
    "from nltk.tokenize import word_tokenize\n",
    "from nltk.tag import StanfordPOSTagger\n",
    "#nltk.download('punkt')\n",
    "\n",
    "import numpy as np"
   ]
  },
  {
   "cell_type": "code",
   "execution_count": null,
   "id": "2233add8",
   "metadata": {},
   "outputs": [],
   "source": [
    "class POSTagEmbedder:\n",
    "    \n",
    "    def __init__(self, path_POS_model, path_jar, embedding_dim=50):\n",
    "        self.stanford_tagger = StanfordPOSTagger(path_POS_model, path_jar, encoding='utf-8')\n",
    "        self.embedding_dim = embedding_dim\n",
    "    \n",
    "    def tokenize_text(self, text):\n",
    "        tokens = word_tokenize(text)\n",
    "        return tokens\n",
    "    \n",
    "    def tag_tokens_pos(self, tokens):\n",
    "        pos_tags = self.stanford_tagger.tag(tokens)\n",
    "        return pos_tags\n",
    "    \n",
    "    def unique_tags(self, tags):\n",
    "        return set(tag for _,tag in tags)\n",
    "    \n",
    "    def initialize_embeddings(self, unique_tags):\n",
    "        self.embeddings = {tag: np.random.rand(self.embedding_dim) for tag in unique_tags}\n",
    "    \n",
    "    \n",
    "    def embedding_lookup(self, pos_tags):\n",
    "        embedding_tags = [self.embeddings.get(tag, np.zeros(self.embedding_dim)) for _, tag in pos_tags]\n",
    "        return embedding_tags\n",
    "    \n",
    "    def optimize_embeddings(self):\n",
    "        pass # implement later"
   ]
  },
  {
   "cell_type": "code",
   "execution_count": null,
   "id": "98832cb9",
   "metadata": {},
   "outputs": [],
   "source": [
    "path_to_jar = \"../stanford-postagger-full-2020-11-17/stanford-postagger.jar\"\n",
    "path_to_model = \"../stanford-postagger-full-2020-11-17/models/english-bidirectional-distsim.tagger\"\n",
    "\n",
    "pos_tagger = POSTagEmbedder(path_to_model, path_to_jar)"
   ]
  },
  {
   "cell_type": "code",
   "execution_count": null,
   "id": "d485f4ed",
   "metadata": {},
   "outputs": [],
   "source": [
    "example = \"The cat is grey\"\n",
    "example_tokens = pos_tagger.tokenize_text(example)\n",
    "example_tags = pos_tagger.tag_tokens_pos(example_tokens)\n",
    "print(example_tags)\n",
    "\n",
    "example_unique_tags = pos_tagger.unique_tags(example_tags)\n",
    "pos_tagger.initialize_embeddings(example_unique_tags)\n",
    "\n",
    "example_embedded_tags = pos_tagger.embedding_lookup(example_tags)\n",
    "print(example_embedded_tags)\n"
   ]
  }
 ],
 "metadata": {
  "kernelspec": {
   "display_name": "Python 3 (ipykernel)",
   "language": "python",
   "name": "python3"
  },
  "language_info": {
   "codemirror_mode": {
    "name": "ipython",
    "version": 3
   },
   "file_extension": ".py",
   "mimetype": "text/x-python",
   "name": "python",
   "nbconvert_exporter": "python",
   "pygments_lexer": "ipython3",
   "version": "3.9.13"
  }
 },
 "nbformat": 4,
 "nbformat_minor": 5
}
