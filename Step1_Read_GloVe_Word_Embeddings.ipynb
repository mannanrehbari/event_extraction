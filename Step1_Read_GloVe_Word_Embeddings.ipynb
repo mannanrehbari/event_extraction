{
 "cells": [
  {
   "cell_type": "markdown",
   "id": "3fe050fb",
   "metadata": {},
   "source": [
    "**Reading word embeddings from GloVe model**"
   ]
  },
  {
   "cell_type": "code",
   "execution_count": 14,
   "id": "3ee486a2",
   "metadata": {},
   "outputs": [],
   "source": [
    "import pickle\n",
    "import time"
   ]
  },
  {
   "cell_type": "code",
   "execution_count": 15,
   "id": "aac32b7d",
   "metadata": {},
   "outputs": [],
   "source": [
    "def load_and_parse_GloVe_data(file_path):\n",
    "    print(\"Creating wordToVectorMap for GloVe data:\")\n",
    "    start_time = time.time()\n",
    "    wordToVectorMap = {}\n",
    "    with open(file_path, 'r', encoding=\"utf-8\") as file:    \n",
    "        for line in file:\n",
    "            values = line.strip().split()\n",
    "            word = values[0]\n",
    "            vector = list(map(float, values[1:]))\n",
    "            wordToVectorMap[word] = vector\n",
    "    print(\"Done - Creating wordToVectorMap for GloVe data\")\n",
    "    end_time = time.time()\n",
    "    loadTime = end_time - start_time\n",
    "    print(f\"Function took {loadTime} seconds to run\")\n",
    "    \n",
    "    return wordToVectorMap"
   ]
  },
  {
   "cell_type": "code",
   "execution_count": 16,
   "id": "23df82da",
   "metadata": {},
   "outputs": [],
   "source": [
    "def saveWordToVectorMapToPickle(data, file_path):\n",
    "    with open(file_path, 'wb') as file:\n",
    "        pickle.dump(data, file)"
   ]
  },
  {
   "cell_type": "code",
   "execution_count": 17,
   "id": "6f5a2d41",
   "metadata": {},
   "outputs": [
    {
     "name": "stdout",
     "output_type": "stream",
     "text": [
      "Creating wordToVectorMap for GloVe data:\n",
      "Done - Creating wordToVectorMap for GloVe data\n",
      "Function took 9.368462085723877 seconds to run\n"
     ]
    }
   ],
   "source": [
    "if __name__ == \"__main__\":\n",
    "    glove_100d_file_path = '../BME Corpora/glove.6B/glove.6B.100d.txt'\n",
    "    pickle_file_path = \"glove_100d_embeddings.pickle\"\n",
    "    wordToVectorMap = load_and_parse_GloVe_data(glove_100d_file_path)\n",
    "    saveWordToVectorMapToPickle(wordToVectorMap, pickle_file_path)"
   ]
  }
 ],
 "metadata": {
  "kernelspec": {
   "display_name": "Python 3 (ipykernel)",
   "language": "python",
   "name": "python3"
  },
  "language_info": {
   "codemirror_mode": {
    "name": "ipython",
    "version": 3
   },
   "file_extension": ".py",
   "mimetype": "text/x-python",
   "name": "python",
   "nbconvert_exporter": "python",
   "pygments_lexer": "ipython3",
   "version": "3.9.13"
  }
 },
 "nbformat": 4,
 "nbformat_minor": 5
}
