{
 "cells": [
  {
   "cell_type": "markdown",
   "id": "3fe050fb",
   "metadata": {},
   "source": [
    "**Reading word embeddings from GloVe model**"
   ]
  },
  {
   "cell_type": "code",
   "execution_count": null,
   "id": "3ee486a2",
   "metadata": {},
   "outputs": [],
   "source": [
    "import pickle\n",
    "import time"
   ]
  },
  {
   "cell_type": "code",
   "execution_count": null,
   "id": "aac32b7d",
   "metadata": {},
   "outputs": [],
   "source": [
    "class GloVeWordEmbedder:\n",
    "    \n",
    "    def __init__(self, path_GloVe_file, file_pickle):\n",
    "        self.path_GloVe_file = path_GloVe_file\n",
    "        self.file_pickle = file_pickle\n",
    "        self.wordToVectorMap = {}\n",
    "    \n",
    "    def loadAndParseGloVeData(self):\n",
    "        print(\"Creating wordToVectorMap for GloVe data:\")\n",
    "        start_time = time.time()\n",
    "        with open(self.path_GloVe_file, 'r', encoding=\"utf-8\") as file:\n",
    "            for line in file:\n",
    "                values = line.strip().split()\n",
    "                word = values[0]\n",
    "                vector = list(map(float, values[1:]))\n",
    "                self.wordToVectorMap[word] = vector\n",
    "        print(\"Done - Creating wordToVectorMap for GloVe data\")\n",
    "        end_time = time.time()\n",
    "        loadTime = end_time - start_time\n",
    "        print(f\"Took {loadTime} seconds to read GloVe data\")\n",
    "        \n",
    "    \n",
    "    def saveGloVeWordEmbeddingToPickle(self):\n",
    "        with open(self.file_pickle, 'wb') as file:\n",
    "            pickle.dump(self.wordToVectorMap, file)"
   ]
  },
  {
   "cell_type": "code",
   "execution_count": null,
   "id": "b1b0f3b5",
   "metadata": {},
   "outputs": [],
   "source": [
    "glove_100d_file_path = '../BME Corpora/glove.6B/glove.6B.100d.txt'\n",
    "pickle_file_path = \"glove_100d_embeddings.pickle\"\n",
    "\n",
    "word_embedder = GloVeWordEmbedder(glove_100d_file_path, pickle_file_path)"
   ]
  },
  {
   "cell_type": "code",
   "execution_count": null,
   "id": "cc0a1a02",
   "metadata": {},
   "outputs": [],
   "source": [
    "word_embedder.loadAndParseGloVeData()\n",
    "word_embedder.saveGloVeWordEmbeddingToPickle()\n"
   ]
  }
 ],
 "metadata": {
  "kernelspec": {
   "display_name": "Python 3 (ipykernel)",
   "language": "python",
   "name": "python3"
  },
  "language_info": {
   "codemirror_mode": {
    "name": "ipython",
    "version": 3
   },
   "file_extension": ".py",
   "mimetype": "text/x-python",
   "name": "python",
   "nbconvert_exporter": "python",
   "pygments_lexer": "ipython3",
   "version": "3.9.13"
  }
 },
 "nbformat": 4,
 "nbformat_minor": 5
}
