{
 "cells": [
  {
   "cell_type": "markdown",
   "id": "ec8fb05f",
   "metadata": {},
   "source": [
    "**Event Extraction with Reinforcement Learning**\n",
    "\n",
    "- This part of event extraction process uses Reinforcement Learning. \n",
    "- The process comprises of a main-task and a subsidiary-task.\n",
    "\n",
    "\n",
    "*Main-Task: Trigger Identification*\n",
    "- The main-task is also referred as trigger identification. In this task, the Agent sequentially scans tokens in the input sentence. \n",
    "- At each time step, the event type is assigned to the corresponding token according to a stochastic policy in RL.\n",
    "- If the current word is recognized as an event trigger, a subsidiary-task will be launched.\n",
    "- If the current word has an event type of 'None', the agent will skip the argument detection sub-task.\n",
    "\n",
    "*Subsidiary-Task: Argument Detection*\n",
    "- When a token is marked as event trigger, a subsidiary task is launched.\n",
    "- This task detects the arguments in the event that corresponds to the event trigger. \n",
    "- The performance of this subtask is used to compute the reward for the action taken in the main-task.\n",
    "\n",
    "**Extraction Process Steps**\n",
    "\n",
    "The entire process is depicted in the following diagram and explained in steps: \n",
    "\n",
    "> ![BMEE](BMEE.png \"Biomedical Event Extraction\")\n",
    "> * Current token in sentence is identified as event trigger \n",
    "> * The vector of trigger word and the embedded environment information will be concatenated and fed to Agent\n",
    "> * The Agent takens an action, representing the predicted event type for word, according to a stochastic policy.\n",
    "> * The word embedding is then concatenated with action vector to create a new representation, for all words in the input sentence.\n",
    "> * This new representation of the input sentence pass through a BiLSTM-CRF module which detects the arguments given the indentified event trigger.\n",
    "> * Then the predicted result of argument detection Y' is compared with ground-truth Y to compute a Reward.\n",
    "> * Additionally, Y' is transformed into a vector L by a BiLSTM layer which is concatenated to environment information. This ends up helping the subsequent trigger. "
   ]
  },
  {
   "cell_type": "code",
   "execution_count": null,
   "id": "1d9b79ad",
   "metadata": {},
   "outputs": [],
   "source": [
    "import numpy as np"
   ]
  },
  {
   "cell_type": "code",
   "execution_count": null,
   "id": "fd9198f3",
   "metadata": {},
   "outputs": [],
   "source": [
    "class State:\n",
    "    def __init__(self, tokenEmbedding, lastEventType, lastArgumentVector, lastStateVector):\n",
    "        pass\n",
    "    \n",
    "    def computeState(self):\n",
    "        pass"
   ]
  },
  {
   "cell_type": "code",
   "execution_count": null,
   "id": "08b75b88",
   "metadata": {},
   "outputs": [],
   "source": [
    "class TriggerIdentificationTask:\n",
    "    def __init__(self):\n",
    "        pass\n",
    "    \n",
    "    def identify(self, state):\n",
    "        pass"
   ]
  },
  {
   "cell_type": "code",
   "execution_count": null,
   "id": "c9ad2d0f",
   "metadata": {},
   "outputs": [],
   "source": [
    "class ArgumentDetectionTask:\n",
    "    def __init__(self):\n",
    "        pass\n",
    "    def detectArguments(self, trigger, state):\n",
    "        pass"
   ]
  },
  {
   "cell_type": "code",
   "execution_count": null,
   "id": "550ccffd",
   "metadata": {},
   "outputs": [],
   "source": [
    "class Agent:\n",
    "    def __init__(self, actionSpace, stateSize):\n",
    "        self.actionSpace = actionSpace\n",
    "        self.stateSize = stateSize\n",
    "        self.mainTask = TriggerIdentificationTask()\n",
    "        self.subsidiaryTask = ArgumentDetectionTask()\n",
    "    \n",
    "    def chooseAction(self, state):\n",
    "        pass\n",
    "    \n",
    "    def updatePolicy(self, reward, state, action):\n",
    "        pass\n",
    "    \n",
    "    def performMainTask(self, state):\n",
    "        pass\n",
    "    \n",
    "    def performSubsidiaryTask(self, trigger, state):\n",
    "        pass"
   ]
  },
  {
   "cell_type": "code",
   "execution_count": null,
   "id": "1896d531",
   "metadata": {},
   "outputs": [],
   "source": [
    "class Environment:\n",
    "    def __init__(self, text, kbEmbedder):\n",
    "        pass\n",
    "    \n",
    "    def tokenizeText(self, text):\n",
    "        pass\n",
    "    \n",
    "    def getState(self):\n",
    "        pass\n",
    "    \n",
    "    def getReward(self, action, groundTruth):\n",
    "        pass\n",
    "    \n",
    "    def step(self, action):\n",
    "        pass"
   ]
  },
  {
   "cell_type": "code",
   "execution_count": null,
   "id": "415da2a5",
   "metadata": {},
   "outputs": [],
   "source": [
    "class ReinforcementLearning:\n",
    "    def __init__(self, agent, environment):\n",
    "        pass\n",
    "    \n",
    "    def runEpisode(self):\n",
    "        pass\n",
    "    \n",
    "    def train(self):\n",
    "        pass\n",
    "    \n",
    "    def evaluate(self):\n",
    "        pass"
   ]
  }
 ],
 "metadata": {
  "kernelspec": {
   "display_name": "Python 3 (ipykernel)",
   "language": "python",
   "name": "python3"
  },
  "language_info": {
   "codemirror_mode": {
    "name": "ipython",
    "version": 3
   },
   "file_extension": ".py",
   "mimetype": "text/x-python",
   "name": "python",
   "nbconvert_exporter": "python",
   "pygments_lexer": "ipython3",
   "version": "3.9.13"
  }
 },
 "nbformat": 4,
 "nbformat_minor": 5
}
