{
 "cells": [
  {
   "cell_type": "markdown",
   "id": "25cc76a2",
   "metadata": {},
   "source": [
    "**Entity type embedding**\n",
    "\n",
    "- This class generates entity type embedding for a given token\n",
    "- It is necessary to initialize the class, as it will load all the entity types from the dataset, before generating an embedding for a given token.\n",
    "- Note that this class only handles MLEE/conll files"
   ]
  },
  {
   "cell_type": "code",
   "execution_count": null,
   "id": "6c1d360b",
   "metadata": {},
   "outputs": [],
   "source": [
    "import os\n",
    "import numpy as np"
   ]
  },
  {
   "cell_type": "code",
   "execution_count": null,
   "id": "88951e99",
   "metadata": {},
   "outputs": [],
   "source": [
    "class EntityTypeEmbedder:\n",
    "    \n",
    "    def __init__(self, input_dir, embedding_dim=50):\n",
    "        self.embedding_dim = embedding_dim\n",
    "        self.entity_embeddings = {}\n",
    "        self.token_entity_mappings = {}\n",
    "        self.entity_types = set()\n",
    "        self.input_dir = input_dir\n",
    "        self.initialize_entity_embeddings()\n",
    "    \n",
    "    def initialize_entity_embeddings(self):\n",
    "        self.extract_token_entity_mapping()\n",
    "    \n",
    "    def extract_token_entity_mapping(self):\n",
    "        entity_types = set()\n",
    "        num_files = 0\n",
    "        for dirpath, _, filenames in os.walk(self.input_dir):\n",
    "            for filename in filenames:\n",
    "                if filename.endswith(\".conll\"):\n",
    "                    num_files += 1\n",
    "                    file_path = os.path.join(dirpath, filename)\n",
    "                    with open(file_path, 'r', encoding='utf-8') as file:\n",
    "                        for line in file:\n",
    "                            if line.strip():  # non-empty line\n",
    "                                parts = line.split(\"\\t\")\n",
    "                                if len(parts) == 4:\n",
    "                                    token, entity_type = parts[0], parts[-1].strip()\n",
    "                                    self.token_entity_mappings[token] = entity_type\n",
    "                                    if entity_type not in self.entity_embeddings and entity_type != 'O':\n",
    "                                        self.entity_types.add(entity_type)\n",
    "                                        self.entity_embeddings[entity_type] = np.random.rand(self.embedding_dim)\n",
    "        print(f\"Processed {num_files} .conll files.\")\n",
    "        unique_tokens = len(self.token_entity_mappings)\n",
    "        unique_entities = len(self.entity_types)\n",
    "        print(f\"Found {unique_tokens} unique tokens which correspond to entities != O\")\n",
    "        print(f\"Found {unique_entities} unique entities\")\n",
    "    \n",
    "    def get_embedding(self, token):\n",
    "        entity_type = self.token_entity_mappings.get(token, 'O')\n",
    "        return self.entity_embeddings.get(entity_type, np.zeros(self.embedding_dim))\n",
    "    \n",
    "    def get_entity_type(self, token):\n",
    "        return self.token_entity_mapping.get(token, 'O')\n",
    "    \n",
    "    def update_embedding(self, entity_type, new_embedding):\n",
    "        if entity_type in self.entity_embeddings:\n",
    "            self.entity_embeddings[entity_type] = new_embedding\n",
    "        else:\n",
    "            raise ValueError(f\"Entity type {entity_type} not in embeddings dictionary\")"
   ]
  },
  {
   "cell_type": "code",
   "execution_count": null,
   "id": "04775f93",
   "metadata": {},
   "outputs": [],
   "source": [
    "input_dir_path = '../BME Corpora/MLEE-1.0.2-rev1/conll/full/'\n",
    "entity_type_embedder = EntityTypeEmbedder(input_dir_path)"
   ]
  },
  {
   "cell_type": "code",
   "execution_count": null,
   "id": "cf4c5c33",
   "metadata": {},
   "outputs": [],
   "source": [
    "# print(entity_type_embedder.token_entity_mapping)\n",
    "\n",
    "example_embedding_girl = entity_type_embedder.get_embedding('girl') #B-organism\n",
    "example_embedding_rat = entity_type_embedder.get_embedding('rat') # B-organism\n",
    "print(example_embedding_girl)\n",
    "print(example_embedding_rat)\n",
    "print(\"*********\")\n",
    "\n",
    "example_embedding_vein = entity_type_embedder.get_embedding('vein') #I-Cell\n",
    "example_embedding_umbilical = entity_type_embedder.get_embedding('umbilical') #I-Cell\n",
    "print(example_embedding_vein)\n",
    "print(example_embedding_umbilical)\n",
    "print(\"*********\")\n",
    "\n",
    "example_embedding_f = entity_type_embedder.get_embedding('following')\n",
    "example_embedding_r = entity_type_embedder.get_embedding('rubella')\n",
    "example_embedding_e = entity_type_embedder.get_embedding('eye')\n",
    "print(example_embedding_f)\n",
    "print(example_embedding_r)\n",
    "print(example_embedding_e)\n"
   ]
  }
 ],
 "metadata": {
  "kernelspec": {
   "display_name": "Python 3 (ipykernel)",
   "language": "python",
   "name": "python3"
  },
  "language_info": {
   "codemirror_mode": {
    "name": "ipython",
    "version": 3
   },
   "file_extension": ".py",
   "mimetype": "text/x-python",
   "name": "python",
   "nbconvert_exporter": "python",
   "pygments_lexer": "ipython3",
   "version": "3.9.13"
  }
 },
 "nbformat": 4,
 "nbformat_minor": 5
}
