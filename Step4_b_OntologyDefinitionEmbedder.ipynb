{
 "cells": [
  {
   "attachments": {},
   "cell_type": "markdown",
   "id": "c8bb4da1",
   "metadata": {},
   "source": [
    "**KB Concept Embedding**\n",
    "\n",
    "- The paper utilizes a sentence embedding model (Subramanian et al. 2018) to generate a representation for the ontology definition. \n",
    "- The ontology definition is obtained in the previous step from QuickGO API and saved to a SQLite local instance.\n",
    "- The library utilized by the authors is available at [GenSen - GitHub](https://github.com/Maluuba/gensen)\n",
    "- However, when we run the script to download the pre-trained models and data required for this sentence embedder, it throws: ERROR 409: Public access is not permitted on this storage account..\n",
    "\n",
    "- Alternative readily-available libraries that can produce sentence-embeddings include [Sentence-Transformers](https://www.sbert.net/), [Universal Sentence Encoder](https://www.tensorflow.org/hub/tutorials/semantic_similarity_with_tf_hub_universal_encoder), and [SpaCy](https://spacy.io/). \n",
    "\n",
    "- Due to API simplicity, I will proceed with Sentence-Transformers to produce an embedding for ontology definition. \n",
    "- The dimensions of embedding vector in Sentence-Transformers is predetermined (usually well above 100), however, we need a 100-dimensional vector for KBs concept embedding. \n",
    "- I will utilize Principal Component Analysis (PCA) to reduce the dimensionality to 100 dimensions. \n"
   ]
  },
  {
   "cell_type": "code",
   "execution_count": null,
   "id": "10814764",
   "metadata": {},
   "outputs": [],
   "source": [
    "# !pip install sentence-transformers\n",
    "# !pip install scikit-learn\n",
    "#!pip install faker"
   ]
  },
  {
   "cell_type": "code",
   "execution_count": null,
   "id": "7114c78b",
   "metadata": {},
   "outputs": [],
   "source": [
    "from sentence_transformers import SentenceTransformer\n",
    "from sklearn.decomposition import PCA\n",
    "import numpy as np\n",
    "import sqlite3"
   ]
  },
  {
   "cell_type": "code",
   "execution_count": null,
   "id": "d8d3b378",
   "metadata": {},
   "outputs": [],
   "source": [
    "# # Example usage of Sentence Transformer\n",
    "import random\n",
    "from faker import Faker\n",
    "\n",
    "# Generate 100 fake sentences\n",
    "fake = Faker()\n",
    "fake_sentences = [fake.sentence(nb_words=random.randint(5, 15)) for _ in range(100)]\n",
    "\n",
    "# initialize models\n",
    "model = SentenceTransformer(\"all-MiniLM-L6-v2\")\n",
    "pca = PCA(n_components=100)\n",
    "\n",
    "# create embeddings\n",
    "embeddings = model.encode(fake_sentences)\n",
    "reduced_embeddings = pca.fit_transform(embeddings)\n",
    "\n",
    "print(\"Original Embeddings Shape: \", np.array(embeddings).shape)\n",
    "print(\"Reduced Embeddings Shape: \", reduced_embeddings.shape)\n",
    "print(reduced_embeddings[0])"
   ]
  },
  {
   "cell_type": "code",
   "execution_count": null,
   "id": "1f13d863",
   "metadata": {},
   "outputs": [],
   "source": [
    "class OntologyDefinitionEmbedder:\n",
    "    \n",
    "    def __init__(self, sqlite_path, pca_components=100, sentence_transformer_type=\"all-MiniLM-L6-v2\"):\n",
    "        self.entity_GOdefinition_embedding = {}\n",
    "        self.sqlite_conn = sqlite3.connect(sqlite_path)\n",
    "        self.pca_components = pca_components\n",
    "        self.sentence_transformer_type = sentence_transformer_type\n",
    "        self.read_SQLite_data()\n",
    "        \n",
    "    def read_SQLite_data(self):\n",
    "        \n",
    "        print(\"Reading GO definitions from SQLite\")\n",
    "        cursor = self.sqlite_conn.cursor()\n",
    "        query = \"\"\"\n",
    "        SELECT entity, GO_definition\n",
    "        FROM QuickGO\n",
    "        WHERE GO_definition != '' AND GO_definition IS NOT NULL;\n",
    "        \"\"\"\n",
    "        cursor.execute(query)\n",
    "        rows = cursor.fetchall()\n",
    "        print(f\"Done Reading {len(rows)} GO definitions from SQLite\")\n",
    "        self.create_embeddings(rows)\n",
    "        \n",
    "    def create_embeddings(self, rows):\n",
    "        print(\"Creating embeddings for GO_definitions\")\n",
    "        model = SentenceTransformer(self.sentence_transformer_type)\n",
    "        pca = PCA(n_components=self.pca_components)\n",
    "        \n",
    "        entities = []\n",
    "        GO_defs = []\n",
    "        \n",
    "        for row in rows:\n",
    "            entities.append(row[0])\n",
    "            GO_defs.append(row[1])\n",
    "        \n",
    "        definition_embeddings = model.encode(GO_defs)\n",
    "        reduced_embeddings = pca.fit_transform(definition_embeddings)\n",
    "        \n",
    "        self.entity_GOdefinition_embedding = dict(zip(entities, reduced_embeddings))\n",
    "        print(f\"Done Creating embeddings for {len(entities)} GO_definitions corresponding to entities\")\n",
    "        \n",
    "    def get_reduced_embedding_for_entity(self, entity):\n",
    "        return self.entity_GOdefinition_embedding.get(entity, np.zeros(self.pca_components))"
   ]
  },
  {
   "cell_type": "code",
   "execution_count": null,
   "id": "f8c13073",
   "metadata": {},
   "outputs": [],
   "source": [
    "sqlite_path = \"../QuickGO.db\"\n",
    "ontology_def_embedder = OntologyDefinitionEmbedder(sqlite_path)"
   ]
  },
  {
   "cell_type": "code",
   "execution_count": null,
   "id": "98c82801",
   "metadata": {},
   "outputs": [],
   "source": [
    "example_entity_embedding = ontology_def_embedder.get_reduced_embedding_for_entity(\"striatum\")\n",
    "example_entity_embedding_DNE = ontology_def_embedder.get_reduced_embedding_for_entity(\"IDONOTEXIST\")\n",
    "print(example_entity_embedding)\n",
    "print(example_entity_embedding_DNE)\n"
   ]
  }
 ],
 "metadata": {
  "kernelspec": {
   "display_name": "Python 3 (ipykernel)",
   "language": "python",
   "name": "python3"
  },
  "language_info": {
   "codemirror_mode": {
    "name": "ipython",
    "version": 3
   },
   "file_extension": ".py",
   "mimetype": "text/x-python",
   "name": "python",
   "nbconvert_exporter": "python",
   "pygments_lexer": "ipython3",
   "version": "3.9.13"
  }
 },
 "nbformat": 4,
 "nbformat_minor": 5
}
