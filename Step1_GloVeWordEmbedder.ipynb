{
 "cells": [
  {
   "cell_type": "markdown",
   "id": "3fe050fb",
   "metadata": {},
   "source": [
    "**Reading word embeddings from GloVe model**"
   ]
  },
  {
   "cell_type": "code",
   "execution_count": null,
   "id": "3ee486a2",
   "metadata": {},
   "outputs": [],
   "source": [
    "import pickle\n",
    "import time\n",
    "import numpy as np"
   ]
  },
  {
   "cell_type": "code",
   "execution_count": null,
   "id": "aac32b7d",
   "metadata": {},
   "outputs": [],
   "source": [
    "class GloVeWordEmbedder:\n",
    "    def __init__(self, path_GloVe_file, file_pickle):\n",
    "        self.path_GloVe_file = path_GloVe_file\n",
    "        self.file_pickle = file_pickle\n",
    "        self.wordToVectorMap = {}\n",
    "        self.loadAndParseGloVeData()\n",
    "    \n",
    "    def loadAndParseGloVeData(self):\n",
    "        print(\"Creating wordToVectorMap for GloVe data:\")\n",
    "        start_time = time.time()\n",
    "        with open(self.path_GloVe_file, 'r', encoding=\"utf-8\") as file:\n",
    "            for line in file:\n",
    "                values = line.strip().split()\n",
    "                word = values[0]\n",
    "                vector = np.asarray(values[1:], \"float32\")\n",
    "                self.wordToVectorMap[word] = vector\n",
    "        print(\"Done - Creating wordToVectorMap for GloVe data\")\n",
    "        end_time = time.time()\n",
    "        loadTime = end_time - start_time\n",
    "        print(f\"Took {loadTime} seconds to read GloVe data\")\n",
    "    \n",
    "    def getWordEmbedding(self, word):\n",
    "        return self.wordToVectorMap.get(word.lower(), np.zeros(100))\n",
    "    \n",
    "    def getSentenceEmbedding(self, sentence):\n",
    "        sentenceEmbedding = {}\n",
    "        words = sentence.split()\n",
    "        for index in range(len(words)):\n",
    "            sentenceEmbedding[index] = self.getWordEmbedding(words[index])\n",
    "        return sentenceEmbedding\n",
    "            \n",
    "    def saveGloVeWordEmbeddingToPickle(self):\n",
    "        with open(self.file_pickle, 'wb') as file:\n",
    "            pickle.dump(self.wordToVectorMap, file)"
   ]
  },
  {
   "cell_type": "code",
   "execution_count": null,
   "id": "0131a953",
   "metadata": {},
   "outputs": [],
   "source": [
    "glove_100d_file_path = '../BME Corpora/glove.6B/glove.6B.100d.txt'\n",
    "pickle_file_path = \"glove_100d_embeddings.pickle\"\n",
    "\n",
    "word_embedder = GloVeWordEmbedder(glove_100d_file_path, pickle_file_path)\n",
    "\n",
    "example_sentence = \"The cat is sad due to rain\"\n",
    "example_sentence_embedding = word_embedder.getSentenceEmbedding(example_sentence)\n",
    "print(example_sentence_embedding)"
   ]
  }
 ],
 "metadata": {
  "kernelspec": {
   "display_name": "Python 3 (ipykernel)",
   "language": "python",
   "name": "python3"
  },
  "language_info": {
   "codemirror_mode": {
    "name": "ipython",
    "version": 3
   },
   "file_extension": ".py",
   "mimetype": "text/x-python",
   "name": "python",
   "nbconvert_exporter": "python",
   "pygments_lexer": "ipython3",
   "version": "3.9.13"
  }
 },
 "nbformat": 4,
 "nbformat_minor": 5
}
