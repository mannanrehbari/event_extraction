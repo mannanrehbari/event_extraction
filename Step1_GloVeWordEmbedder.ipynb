{
 "cells": [
  {
   "cell_type": "markdown",
   "id": "3fe050fb",
   "metadata": {},
   "source": [
    "**Reading word embeddings from GloVe model**"
   ]
  },
  {
   "cell_type": "code",
   "execution_count": null,
   "id": "3ee486a2",
   "metadata": {},
   "outputs": [],
   "source": [
    "import pickle\n",
    "import time\n",
    "import numpy as np"
   ]
  },
  {
   "cell_type": "code",
   "execution_count": null,
   "id": "aac32b7d",
   "metadata": {},
   "outputs": [],
   "source": [
    "class GloVeWordEmbedder:\n",
    "    def __init__(self, pathGloveFile, pathPickleFile):\n",
    "        self.pathGloveFile = pathGloveFile\n",
    "        self.pathPickleFile = pathPickleFile\n",
    "        self.wordToVectorMap = {}\n",
    "        self.loadAndParseGloVeData()\n",
    "    \n",
    "    def loadAndParseGloVeData(self):\n",
    "        print(\"Creating wordToVectorMap for GloVe data:\")\n",
    "        startTime = time.time()\n",
    "        with open(self.pathGloveFile, 'r', encoding=\"utf-8\") as file:\n",
    "            for line in file:\n",
    "                values = line.strip().split()\n",
    "                word = values[0]\n",
    "                vector = np.asarray(values[1:], \"float32\")\n",
    "                self.wordToVectorMap[word] = vector\n",
    "        print(\"Done - Creating wordToVectorMap for GloVe data\")\n",
    "        endTime = time.time()\n",
    "        loadTime = endTime - startTime\n",
    "        print(f\"Took {loadTime} seconds to read GloVe data\")\n",
    "    \n",
    "    def getWordEmbedding(self, word):\n",
    "        return self.wordToVectorMap.get(word.lower(), np.zeros(100))\n",
    "    \n",
    "    def getSentenceEmbedding(self, sentence):\n",
    "        sentenceEmbedding = {}\n",
    "        words = sentence.split()\n",
    "        for index in range(len(words)):\n",
    "            sentenceEmbedding[index] = self.getWordEmbedding(words[index])\n",
    "        return sentenceEmbedding\n",
    "            \n",
    "    def saveGloVeWordEmbeddingToPickle(self):\n",
    "        with open(self.file_pickle, 'wb') as file:\n",
    "            pickle.dump(self.wordToVectorMap, file)"
   ]
  },
  {
   "cell_type": "code",
   "execution_count": null,
   "id": "0131a953",
   "metadata": {},
   "outputs": [],
   "source": [
    "pathGloVe100dFile = '../BME Corpora/glove.6B/glove.6B.100d.txt'\n",
    "pathPickleFile = \"glove100dEmbeddings.pickle\"\n",
    "\n",
    "wordEmbedder = GloVeWordEmbedder(pathGloVe100dFile, pathPickleFile)\n",
    "\n",
    "exampleSentence = \"The cat is sad due to rain\"\n",
    "exampleEmbedding = wordEmbedder.getSentenceEmbedding(exampleSentence)\n",
    "print(exampleEmbedding)"
   ]
  }
 ],
 "metadata": {
  "kernelspec": {
   "display_name": "Python 3 (ipykernel)",
   "language": "python",
   "name": "python3"
  },
  "language_info": {
   "codemirror_mode": {
    "name": "ipython",
    "version": 3
   },
   "file_extension": ".py",
   "mimetype": "text/x-python",
   "name": "python",
   "nbconvert_exporter": "python",
   "pygments_lexer": "ipython3",
   "version": "3.9.13"
  }
 },
 "nbformat": 4,
 "nbformat_minor": 5
}
