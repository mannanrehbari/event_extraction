{
 "cells": [
  {
   "cell_type": "markdown",
   "id": "25cc76a2",
   "metadata": {},
   "source": [
    "**Entity type embedding for CONLL format data**\n",
    "\n",
    "- This class generates entity type embedding for a given token\n",
    "- It is necessary to initialize the class, as it will load all the entity types from the dataset, before generating an embedding for a given token.\n",
    "- Note that this class only handles MLEE/conll files"
   ]
  },
  {
   "cell_type": "code",
   "execution_count": null,
   "id": "6c1d360b",
   "metadata": {},
   "outputs": [],
   "source": [
    "import os\n",
    "import numpy as np"
   ]
  },
  {
   "cell_type": "code",
   "execution_count": null,
   "id": "88951e99",
   "metadata": {},
   "outputs": [],
   "source": [
    "class EntityTypeEmbedderCONLL:\n",
    "    \n",
    "    def __init__(self, inputDir, embeddingDim=50):\n",
    "        self.embeddingDim = embeddingDim\n",
    "        self.entityEmbeddings = {}\n",
    "        self.tokenEntityMappings = {}\n",
    "        self.entityTypes = set()\n",
    "        self.inputDir = inputDir\n",
    "        self.extractTokenEntityMapping()\n",
    "    \n",
    "    def extractTokenEntityMapping(self):\n",
    "        numFiles = 0\n",
    "        for dirpath, _, filenames in os.walk(self.inputDir):\n",
    "            for filename in filenames:\n",
    "                if filename.endswith(\".conll\"):\n",
    "                    numFiles += 1\n",
    "                    filePath = os.path.join(dirpath, filename)\n",
    "                    with open(filePath, 'r', encoding='utf-8') as file:\n",
    "                        for line in file:\n",
    "                            if line.strip():  # non-empty line\n",
    "                                parts = line.split(\"\\t\")\n",
    "                                if len(parts) == 4:\n",
    "                                    token, entityType = parts[0], parts[-1].strip()\n",
    "                                    self.tokenEntityMappings[token] = entityType\n",
    "                                    if entityType not in self.entityEmbeddings and entityType != 'O':\n",
    "                                        self.entityTypes.add(entityType)\n",
    "                                        self.entityEmbeddings[entityType] = np.random.rand(self.embeddingDim)\n",
    "        print(f\"Processed {numFiles} .conll files.\")\n",
    "        uniqueTokens = len(self.tokenEntityMappings)\n",
    "        uniqueEntities = len(self.entityTypes)\n",
    "        print(f\"Found {uniqueTokens} unique tokens which correspond to entities != O\")\n",
    "        print(f\"Found {uniqueEntities} unique entities\")\n",
    "    \n",
    "    def get_embedding(self, token):\n",
    "        entityType = self.tokenEntityMappings.get(token, 'O')\n",
    "        return self.entityEmbeddings.get(entityType, np.zeros(self.embeddingDim))\n",
    "    \n",
    "    def get_entity_type(self, token):\n",
    "        return self.tokenEntityMappings.get(token, 'O')\n",
    "    \n",
    "    def update_embedding(self, entityType, newEmbedding):\n",
    "        if entityType in self.entityEmbeddings:\n",
    "            self.entityEmbeddings[entityType] = newEmbedding\n",
    "        else:\n",
    "            raise ValueError(f\"Entity type {entityType} not in embeddings dictionary\")"
   ]
  },
  {
   "cell_type": "code",
   "execution_count": null,
   "id": "04775f93",
   "metadata": {},
   "outputs": [],
   "source": [
    "input_dir_path = '../BME Corpora/MLEE-1.0.2-rev1/conll/full/'\n",
    "entity_type_embedder = EntityTypeEmbedderCONLL(input_dir_path)"
   ]
  },
  {
   "cell_type": "code",
   "execution_count": null,
   "id": "cf4c5c33",
   "metadata": {},
   "outputs": [],
   "source": [
    "# print(entity_type_embedder.token_entity_mapping)\n",
    "\n",
    "example_embedding_girl = entity_type_embedder.get_embedding('girl') #B-organism\n",
    "example_embedding_rat = entity_type_embedder.get_embedding('rat') # B-organism\n",
    "print(example_embedding_girl)\n",
    "print(example_embedding_rat)\n",
    "print(\"*********\")\n",
    "\n",
    "example_embedding_vein = entity_type_embedder.get_embedding('vein') #I-Cell\n",
    "example_embedding_umbilical = entity_type_embedder.get_embedding('umbilical') #I-Cell\n",
    "print(example_embedding_vein)\n",
    "print(example_embedding_umbilical)\n",
    "print(\"*********\")\n",
    "\n",
    "example_embedding_f = entity_type_embedder.get_embedding('following')\n",
    "example_embedding_r = entity_type_embedder.get_embedding('rubella')\n",
    "example_embedding_e = entity_type_embedder.get_embedding('eye')\n",
    "print(example_embedding_f)\n",
    "print(example_embedding_r)\n",
    "print(example_embedding_e)\n"
   ]
  }
 ],
 "metadata": {
  "kernelspec": {
   "display_name": "Python 3 (ipykernel)",
   "language": "python",
   "name": "python3"
  },
  "language_info": {
   "codemirror_mode": {
    "name": "ipython",
    "version": 3
   },
   "file_extension": ".py",
   "mimetype": "text/x-python",
   "name": "python",
   "nbconvert_exporter": "python",
   "pygments_lexer": "ipython3",
   "version": "3.9.13"
  }
 },
 "nbformat": 4,
 "nbformat_minor": 5
}
