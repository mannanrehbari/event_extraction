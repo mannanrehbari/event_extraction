{
 "cells": [
  {
   "cell_type": "markdown",
   "id": "c8bb4da1",
   "metadata": {},
   "source": [
    "**KB Concept Embedding**\n",
    "\n",
    "- I have saved the QuickGO's ontology definition for each entity in both datasets: CONLL and STANDOFF\n",
    "- CONLL, STANDOFF dataset definitions are saved to QuickGOCONLL table and QuickGOSTANDOFF table, respectively.\n",
    "- The paper utilizes a sentence embedding model (Subramanian et al. 2018) to generate a representation for the ontology definition. \n",
    "- The ontology definition is obtained in the previous step from QuickGO API and saved to a SQLite local instance.\n",
    "\n",
    "\n",
    "- The library utilized by the authors is available at [GenSen - GitHub](https://github.com/Maluuba/gensen)\n",
    "- However, when we run the script to download the pre-trained models and data required for this sentence embedder, it throws: ERROR 409: Public access is not permitted on this storage account..\n",
    "\n",
    "- Alternative readily-available libraries that can produce sentence-embeddings include [Sentence-Transformers](https://www.sbert.net/), [Universal Sentence Encoder](https://www.tensorflow.org/hub/tutorials/semantic_similarity_with_tf_hub_universal_encoder), and [SpaCy](https://spacy.io/). \n",
    "\n",
    "- Due to API simplicity, I will proceed with Sentence-Transformers to produce an embedding for ontology definition. \n",
    "- The dimensions of embedding vector in Sentence-Transformers is predetermined (usually well above 100), however, we need a 100-dimensional vector for KBs concept embedding. \n",
    "- I will utilize Principal Component Analysis (PCA) to reduce the dimensionality to 100 dimensions. \n"
   ]
  },
  {
   "cell_type": "code",
   "execution_count": null,
   "id": "10814764",
   "metadata": {},
   "outputs": [],
   "source": [
    "# !pip install sentence-transformers\n",
    "# !pip install scikit-learn\n",
    "#!pip install faker"
   ]
  },
  {
   "cell_type": "code",
   "execution_count": null,
   "id": "7114c78b",
   "metadata": {},
   "outputs": [],
   "source": [
    "from sentence_transformers import SentenceTransformer\n",
    "from sklearn.decomposition import PCA\n",
    "import numpy as np\n",
    "import sqlite3"
   ]
  },
  {
   "cell_type": "code",
   "execution_count": null,
   "id": "d8d3b378",
   "metadata": {},
   "outputs": [],
   "source": [
    "# # Example usage of Sentence Transformer\n",
    "import random\n",
    "from faker import Faker\n",
    "\n",
    "# Generate 100 fake sentences\n",
    "fake = Faker()\n",
    "fakeSentences = [fake.sentence(nb_words=random.randint(5, 15)) for _ in range(100)]\n",
    "\n",
    "# initialize models\n",
    "model = SentenceTransformer(\"all-MiniLM-L6-v2\")\n",
    "pca = PCA(n_components=100)\n",
    "\n",
    "# create embeddings\n",
    "embeddings = model.encode(fakeSentences)\n",
    "reducedEmbeddings = pca.fit_transform(embeddings)\n",
    "\n",
    "print(\"Original Embeddings Shape: \", np.array(embeddings).shape)\n",
    "print(\"Reduced Embeddings Shape: \", reducedEmbeddings.shape)\n",
    "print(reducedEmbeddings[0])"
   ]
  },
  {
   "cell_type": "code",
   "execution_count": null,
   "id": "1f13d863",
   "metadata": {},
   "outputs": [],
   "source": [
    "class OntologyDefinitionEmbedder:\n",
    "    \n",
    "    def __init__(self, sqlitePath, table,pcaComponents=100, sentenceTransformerType=\"all-MiniLM-L6-v2\"):\n",
    "        self.entityGOdefinitionEmbedding = {}\n",
    "        self.sqliteConn = sqlite3.connect(sqlitePath)\n",
    "        self.table = table\n",
    "        self.pcaComponents = pcaComponents\n",
    "        self.sentenceTransformerType = sentenceTransformerType\n",
    "        self.readSQLiteData()\n",
    "        \n",
    "    def readSQLiteData(self):\n",
    "        \n",
    "        print(\"Reading GO definitions from SQLite\")\n",
    "        cursor = self.sqliteConn.cursor()\n",
    "        \n",
    "        query = \"\"\"\n",
    "        SELECT entity, GO_definition\n",
    "        FROM {table}\n",
    "        WHERE GO_definition != '' AND GO_definition IS NOT NULL;\n",
    "        \"\"\".format(table=self.table)\n",
    "        \n",
    "        cursor.execute(query)\n",
    "        rows = cursor.fetchall()\n",
    "        self.sqliteConn.close()\n",
    "        \n",
    "        print(f\"Done Reading {len(rows)} GO definitions from SQLite\")\n",
    "        self.createEmbeddings(rows)\n",
    "        \n",
    "    def createEmbeddings(self, rows):\n",
    "        print(\"Creating embeddings for GO_definitions\")\n",
    "        model = SentenceTransformer(self.sentenceTransformerType)\n",
    "        pca = PCA(n_components=self.pcaComponents)\n",
    "        \n",
    "        entities = []\n",
    "        GOdefs = []\n",
    "        \n",
    "        for row in rows:\n",
    "            entities.append(row[0])\n",
    "            GOdefs.append(row[1])\n",
    "        \n",
    "        definitionEmbeddings = model.encode(GOdefs)\n",
    "        reducedEmbeddings = pca.fit_transform(definitionEmbeddings)\n",
    "        \n",
    "        self.entityGOdefinitionEmbedding = dict(zip(entities, reducedEmbeddings))\n",
    "        print(f\"Done Creating embeddings for {len(entities)} GO_definitions corresponding to entities\")\n",
    "        \n",
    "    def getEmbeddingForEntity(self, entity):\n",
    "        return self.entityGOdefinitionEmbedding.get(entity, np.zeros(self.pcaComponents))"
   ]
  },
  {
   "cell_type": "code",
   "execution_count": null,
   "id": "f8c13073",
   "metadata": {},
   "outputs": [],
   "source": [
    "sqlitePath = \"../QuickGO.db\"\n",
    "# table = \"QuickGOCONLL\"\n",
    "table = \"QuickGOSTANDOFF\"\n",
    "ontologyDefinitionEmbedder = OntologyDefinitionEmbedder(sqlitePath, table)"
   ]
  },
  {
   "cell_type": "code",
   "execution_count": null,
   "id": "98c82801",
   "metadata": {},
   "outputs": [],
   "source": [
    "exampleEntityEmbedding = ontologyDefinitionEmbedder.getEmbeddingForEntity(\"angiogenesis\")\n",
    "exampleEntityEmbeddingDNE = ontologyDefinitionEmbedder.getEmbeddingForEntity(\"IDONOTEXIST\")\n",
    "print(exampleEntityEmbedding)\n",
    "print(exampleEntityEmbeddingDNE)\n"
   ]
  }
 ],
 "metadata": {
  "kernelspec": {
   "display_name": "Python 3 (ipykernel)",
   "language": "python",
   "name": "python3"
  },
  "language_info": {
   "codemirror_mode": {
    "name": "ipython",
    "version": 3
   },
   "file_extension": ".py",
   "mimetype": "text/x-python",
   "name": "python",
   "nbconvert_exporter": "python",
   "pygments_lexer": "ipython3",
   "version": "3.9.13"
  }
 },
 "nbformat": 4,
 "nbformat_minor": 5
}
