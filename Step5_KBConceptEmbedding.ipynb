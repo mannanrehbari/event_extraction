{
 "cells": [
  {
   "cell_type": "markdown",
   "id": "c8bb4da1",
   "metadata": {},
   "source": [
    "**KB Concept Embedding**\n",
    "\n",
    "- I have saved the QuickGO's ontology definition for each entity in both datasets: CONLL and STANDOFF\n",
    "- CONLL, STANDOFF dataset definitions are saved to QuickGOCONLL table and QuickGOSTANDOFF table, respectively.\n",
    "- The paper utilizes a sentence embedding model (Subramanian et al. 2018) to generate a representation for the ontology definition. \n",
    "- The ontology definition is obtained in the previous step from QuickGO API and saved to a SQLite local instance.\n",
    "\n",
    "\n",
    "- The library utilized by the authors is available at [GenSen - GitHub](https://github.com/Maluuba/gensen)\n",
    "- However, when we run the script to download the pre-trained models and data required for this sentence embedder, it throws: ERROR 409: Public access is not permitted on this storage account..\n",
    "\n",
    "- Alternative readily-available libraries that can produce sentence-embeddings include [Sentence-Transformers](https://www.sbert.net/), [Universal Sentence Encoder](https://www.tensorflow.org/hub/tutorials/semantic_similarity_with_tf_hub_universal_encoder), and [SpaCy](https://spacy.io/). \n",
    "\n",
    "- Due to API simplicity, I will proceed with Sentence-Transformers to produce an embedding for ontology definition. \n",
    "- The dimensions of embedding vector in Sentence-Transformers is predetermined (usually well above 100), however, we need a 100-dimensional vector for KBs concept embedding. \n",
    "- I will utilize Principal Component Analysis (PCA) to reduce the dimensionality to 100 dimensions. \n"
   ]
  },
  {
   "cell_type": "code",
   "execution_count": 1,
   "id": "10814764",
   "metadata": {},
   "outputs": [],
   "source": [
    "# !pip install sentence-transformers\n",
    "# !pip install scikit-learn\n",
    "#!pip install faker"
   ]
  },
  {
   "cell_type": "code",
   "execution_count": 2,
   "id": "7114c78b",
   "metadata": {},
   "outputs": [],
   "source": [
    "from sentence_transformers import SentenceTransformer\n",
    "from sklearn.decomposition import PCA\n",
    "import numpy as np\n",
    "import sqlite3"
   ]
  },
  {
   "cell_type": "code",
   "execution_count": 3,
   "id": "d8d3b378",
   "metadata": {},
   "outputs": [
    {
     "name": "stdout",
     "output_type": "stream",
     "text": [
      "Original Embeddings Shape:  (100, 384)\n",
      "Reduced Embeddings Shape:  (100, 100)\n",
      "[ 2.15076152e-02  2.09832311e-01 -1.08795092e-01 -1.90676868e-01\n",
      "  1.64481774e-01  1.37946710e-01  7.47257471e-02 -1.49772435e-01\n",
      "  2.09792107e-01  1.00864666e-02 -5.80841303e-02 -2.11697295e-01\n",
      " -6.49506226e-02 -1.23653501e-01 -8.27922374e-02 -2.08600238e-01\n",
      "  1.31045068e-02 -4.37145792e-02 -8.73954780e-03  2.39319086e-01\n",
      "  8.03546831e-02 -1.34598240e-01  2.61495728e-02 -5.56042157e-02\n",
      " -1.63719013e-01 -3.94229703e-02 -2.11805161e-02  1.76812977e-01\n",
      " -1.03446677e-01 -7.32576028e-02  4.68325103e-03 -9.15732048e-03\n",
      "  2.28551820e-01 -2.76175886e-03  1.20742865e-01  7.18644559e-02\n",
      " -2.06161719e-02 -2.19293479e-02  3.90015766e-02  7.08631948e-02\n",
      "  2.27317605e-02 -1.97708547e-01  2.21949667e-01 -4.18668799e-02\n",
      "  1.21047862e-01 -9.22309682e-02  2.11949460e-02 -5.56671508e-02\n",
      " -3.18974331e-02  1.04516611e-01  2.52879914e-02  3.28234918e-02\n",
      " -6.75778277e-03  1.02122575e-01 -4.79003489e-02  1.40124355e-02\n",
      " -1.12485820e-02  4.49605882e-02 -1.49593549e-02 -9.52861365e-03\n",
      " -3.43869589e-02  3.06484122e-02  6.15053847e-02 -1.63195476e-01\n",
      " -8.88298005e-02  4.39507663e-02  4.58792783e-02 -2.47962046e-02\n",
      "  6.29813690e-03  3.41300331e-02  2.38775034e-02 -2.34807301e-02\n",
      " -2.96077151e-02 -1.16949640e-01 -4.48468439e-02  5.70097864e-02\n",
      " -1.76745560e-02  7.72333704e-03 -9.51638147e-02 -4.31108288e-02\n",
      " -2.43937448e-02 -6.88081309e-02  7.46556371e-02 -3.38008516e-02\n",
      " -9.88010615e-02 -2.29462981e-02 -9.12476424e-03  1.99441779e-02\n",
      "  1.02098687e-02  4.36382229e-03  1.18038394e-02 -2.67538484e-02\n",
      "  3.52852680e-02 -3.31934541e-03  1.02450922e-02 -3.27254087e-02\n",
      "  5.73441014e-02  1.84990857e-02  1.18814521e-02  5.78661989e-08]\n"
     ]
    }
   ],
   "source": [
    "# # Example usage of Sentence Transformer\n",
    "import random\n",
    "from faker import Faker\n",
    "\n",
    "# Generate 100 fake sentences\n",
    "fake = Faker()\n",
    "fakeSentences = [fake.sentence(nb_words=random.randint(5, 15)) for _ in range(100)]\n",
    "\n",
    "# initialize models\n",
    "model = SentenceTransformer(\"all-MiniLM-L6-v2\")\n",
    "pca = PCA(n_components=100)\n",
    "\n",
    "# create embeddings\n",
    "embeddings = model.encode(fakeSentences)\n",
    "reducedEmbeddings = pca.fit_transform(embeddings)\n",
    "\n",
    "print(\"Original Embeddings Shape: \", np.array(embeddings).shape)\n",
    "print(\"Reduced Embeddings Shape: \", reducedEmbeddings.shape)\n",
    "print(reducedEmbeddings[0])"
   ]
  },
  {
   "cell_type": "code",
   "execution_count": 4,
   "id": "1f13d863",
   "metadata": {},
   "outputs": [],
   "source": [
    "class OntologyDefinitionEmbedder:\n",
    "    \n",
    "    def __init__(self, sqlitePath, table,pcaComponents=100, sentenceTransformerType=\"all-MiniLM-L6-v2\"):\n",
    "        self.entityGOdefinitionEmbedding = {}\n",
    "        self.sqliteConn = sqlite3.connect(sqlitePath)\n",
    "        self.table = table\n",
    "        self.pcaComponents = pcaComponents\n",
    "        self.sentenceTransformerType = sentenceTransformerType\n",
    "        self.readSQLiteData()\n",
    "        \n",
    "    def readSQLiteData(self):\n",
    "        \n",
    "        print(\"Reading GO definitions from SQLite\")\n",
    "        cursor = self.sqliteConn.cursor()\n",
    "        \n",
    "        query = \"\"\"\n",
    "        SELECT entity, GO_definition\n",
    "        FROM {table}\n",
    "        WHERE GO_definition != '' AND GO_definition IS NOT NULL;\n",
    "        \"\"\".format(table=self.table)\n",
    "        \n",
    "        cursor.execute(query)\n",
    "        rows = cursor.fetchall()\n",
    "        self.sqliteConn.close()\n",
    "        \n",
    "        print(f\"Done Reading {len(rows)} GO definitions from SQLite\")\n",
    "        self.createEmbeddings(rows)\n",
    "        \n",
    "    def createEmbeddings(self, rows):\n",
    "        print(\"Creating embeddings for GO_definitions\")\n",
    "        model = SentenceTransformer(self.sentenceTransformerType)\n",
    "        pca = PCA(n_components=self.pcaComponents)\n",
    "        \n",
    "        entities = []\n",
    "        GOdefs = []\n",
    "        \n",
    "        for row in rows:\n",
    "            entities.append(row[0])\n",
    "            GOdefs.append(row[1])\n",
    "        \n",
    "        definitionEmbeddings = model.encode(GOdefs)\n",
    "        reducedEmbeddings = pca.fit_transform(definitionEmbeddings)\n",
    "        \n",
    "        self.entityGOdefinitionEmbedding = dict(zip(entities, reducedEmbeddings))\n",
    "        print(f\"Done Creating embeddings for {len(entities)} GO_definitions corresponding to entities\")\n",
    "        \n",
    "    def getEmbeddingForEntity(self, entity):\n",
    "        return self.entityGOdefinitionEmbedding.get(entity, np.zeros(self.pcaComponents))"
   ]
  },
  {
   "cell_type": "code",
   "execution_count": 5,
   "id": "f8c13073",
   "metadata": {},
   "outputs": [
    {
     "name": "stdout",
     "output_type": "stream",
     "text": [
      "Reading GO definitions from SQLite\n",
      "Done Reading 2528 GO definitions from SQLite\n",
      "Creating embeddings for GO_definitions\n",
      "Done Creating embeddings for 2528 GO_definitions corresponding to entities\n"
     ]
    }
   ],
   "source": [
    "sqlitePath = \"../QuickGO.db\"\n",
    "# table = \"QuickGOCONLL\"\n",
    "table = \"QuickGOSTANDOFF\"\n",
    "ontologyDefinitionEmbedder = OntologyDefinitionEmbedder(sqlitePath, table)"
   ]
  },
  {
   "cell_type": "code",
   "execution_count": 6,
   "id": "98c82801",
   "metadata": {},
   "outputs": [
    {
     "name": "stdout",
     "output_type": "stream",
     "text": [
      "[-0.21365184  0.43349725 -0.33151343 -0.20256285  0.07304411  0.1434427\n",
      "  0.12300024 -0.17338209  0.11258581  0.02974366 -0.02566108  0.01236665\n",
      " -0.08322132  0.07523662 -0.02602699 -0.0477213   0.0394746  -0.00344671\n",
      " -0.07337301 -0.03498936 -0.1293745  -0.06551908 -0.05756119  0.02663484\n",
      " -0.00282967  0.02529964  0.06037331  0.09391612 -0.06256899  0.05370912\n",
      "  0.09937633 -0.05414293  0.06022435  0.04373126  0.04766092 -0.04245023\n",
      " -0.07007768 -0.12678671 -0.03897177 -0.0147526  -0.01271358  0.01991127\n",
      "  0.00611725  0.01438462 -0.02243987 -0.07228547 -0.03894063 -0.04607353\n",
      " -0.02574906  0.0053082  -0.08145685  0.01793898 -0.00831993  0.03044647\n",
      "  0.00185351  0.07601354  0.02878074 -0.07895198  0.03439514 -0.01432682\n",
      " -0.04036571 -0.06453322  0.04099624  0.05552135  0.07116162  0.03468121\n",
      " -0.05444211  0.06675231  0.00464143  0.02575271  0.05574566  0.06569096\n",
      " -0.06603791 -0.08505224 -0.04144668 -0.01647161  0.12321257  0.03027159\n",
      " -0.04481766 -0.01044078 -0.10291919 -0.03137582  0.04028274  0.02253811\n",
      "  0.10325068 -0.00697468  0.01462099  0.00144162  0.07169884  0.01822909\n",
      "  0.06881462 -0.04010497 -0.00250125  0.05708968 -0.01013096  0.02450791\n",
      " -0.02568619  0.02256903  0.08340441  0.04342132]\n",
      "[0. 0. 0. 0. 0. 0. 0. 0. 0. 0. 0. 0. 0. 0. 0. 0. 0. 0. 0. 0. 0. 0. 0. 0.\n",
      " 0. 0. 0. 0. 0. 0. 0. 0. 0. 0. 0. 0. 0. 0. 0. 0. 0. 0. 0. 0. 0. 0. 0. 0.\n",
      " 0. 0. 0. 0. 0. 0. 0. 0. 0. 0. 0. 0. 0. 0. 0. 0. 0. 0. 0. 0. 0. 0. 0. 0.\n",
      " 0. 0. 0. 0. 0. 0. 0. 0. 0. 0. 0. 0. 0. 0. 0. 0. 0. 0. 0. 0. 0. 0. 0. 0.\n",
      " 0. 0. 0. 0.]\n"
     ]
    }
   ],
   "source": [
    "exampleEntityEmbedding = ontologyDefinitionEmbedder.getEmbeddingForEntity(\"angiogenesis\")\n",
    "exampleEntityEmbeddingDNE = ontologyDefinitionEmbedder.getEmbeddingForEntity(\"IDONOTEXIST\")\n",
    "print(exampleEntityEmbedding)\n",
    "print(exampleEntityEmbeddingDNE)\n"
   ]
  }
 ],
 "metadata": {
  "kernelspec": {
   "display_name": "Python 3 (ipykernel)",
   "language": "python",
   "name": "python3"
  },
  "language_info": {
   "codemirror_mode": {
    "name": "ipython",
    "version": 3
   },
   "file_extension": ".py",
   "mimetype": "text/x-python",
   "name": "python",
   "nbconvert_exporter": "python",
   "pygments_lexer": "ipython3",
   "version": "3.9.13"
  }
 },
 "nbformat": 4,
 "nbformat_minor": 5
}
