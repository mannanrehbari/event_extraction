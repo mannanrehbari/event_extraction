{
 "cells": [
  {
   "cell_type": "markdown",
   "id": "4251ffce",
   "metadata": {},
   "source": [
    "**Stanford POS Tagger**"
   ]
  },
  {
   "cell_type": "code",
   "execution_count": null,
   "id": "ad46d593",
   "metadata": {},
   "outputs": [],
   "source": [
    "import nltk\n",
    "from nltk.tokenize import word_tokenize\n",
    "from nltk.tag import StanfordPOSTagger\n",
    "#nltk.download('punkt')\n",
    "\n",
    "import numpy as np"
   ]
  },
  {
   "cell_type": "code",
   "execution_count": null,
   "id": "d0472fb6",
   "metadata": {},
   "outputs": [],
   "source": [
    "class POSTagEmbedder:\n",
    "    \n",
    "    def __init__(self, path_POS_model, path_jar, dimension=50):\n",
    "        self.tagger = StanfordPOSTagger(path_POS_model, path_jar, encoding='utf-8')\n",
    "        self.dimension = dimension\n",
    "        self.pos_embeddings = {}\n",
    "    \n",
    "    def tag_sentence(self, sentence):\n",
    "        tokens = word_tokenize(sentence)\n",
    "        return self.tagger.tag(tokens)\n",
    "    \n",
    "    def get_embedding(self, pos_tag):\n",
    "        if pos_tag not in self.pos_embeddings:\n",
    "            self.pos_embeddings[pos_tag] = np.random.rand(self.dimension)\n",
    "        return self.pos_embeddings[pos_tag]\n",
    "    \n",
    "    def embed_sentence(self, sentence):\n",
    "        pos_tags = self.tag_sentence(sentence)\n",
    "        pos_tags_embeddings = [self.get_embedding(tag) for _,tag in pos_tags]\n",
    "        return pos_tags, pos_tags_embeddings"
   ]
  },
  {
   "cell_type": "code",
   "execution_count": null,
   "id": "881cfb1c",
   "metadata": {},
   "outputs": [],
   "source": [
    "path_to_jar = \"../stanford-postagger-full-2020-11-17/stanford-postagger.jar\"\n",
    "path_to_model = \"../stanford-postagger-full-2020-11-17/models/english-bidirectional-distsim.tagger\"\n",
    "\n",
    "pos_tagger = POSTagEmbedder(path_to_model, path_to_jar)"
   ]
  },
  {
   "cell_type": "code",
   "execution_count": null,
   "id": "7bd8bb3f",
   "metadata": {},
   "outputs": [],
   "source": [
    "example = \"The cat is sad due to rain\"\n",
    "pos_tags, tag_embeddings = pos_tagger.embed_sentence(example)\n",
    "print(pos_tags)\n",
    "print(tag_embeddings)"
   ]
  }
 ],
 "metadata": {
  "kernelspec": {
   "display_name": "Python 3 (ipykernel)",
   "language": "python",
   "name": "python3"
  },
  "language_info": {
   "codemirror_mode": {
    "name": "ipython",
    "version": 3
   },
   "file_extension": ".py",
   "mimetype": "text/x-python",
   "name": "python",
   "nbconvert_exporter": "python",
   "pygments_lexer": "ipython3",
   "version": "3.9.13"
  }
 },
 "nbformat": 4,
 "nbformat_minor": 5
}
