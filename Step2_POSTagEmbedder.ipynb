{
 "cells": [
  {
   "cell_type": "markdown",
   "id": "4251ffce",
   "metadata": {},
   "source": [
    "**Stanford POS Tagger**"
   ]
  },
  {
   "cell_type": "code",
   "execution_count": null,
   "id": "ad46d593",
   "metadata": {},
   "outputs": [],
   "source": [
    "import nltk\n",
    "from nltk.tokenize import word_tokenize\n",
    "from nltk.tag import StanfordPOSTagger\n",
    "#nltk.download('punkt')\n",
    "\n",
    "import numpy as np"
   ]
  },
  {
   "cell_type": "code",
   "execution_count": null,
   "id": "d0472fb6",
   "metadata": {},
   "outputs": [],
   "source": [
    "class POSTagEmbedder:\n",
    "    \n",
    "    def __init__(self, pathPOSmodel, pathJPOSar, dimension=50):\n",
    "        self.tagger = StanfordPOSTagger(pathPOSmodel, pathJPOSar, encoding='utf-8')\n",
    "        self.dimension = dimension\n",
    "        self.posEmbeddings = {}\n",
    "    \n",
    "    def tagSentence(self, sentence):\n",
    "        tokens = word_tokenize(sentence)\n",
    "        return self.tagger.tag(tokens)\n",
    "    \n",
    "    def getEmbedding(self, pos_tag):\n",
    "        if pos_tag not in self.posEmbeddings:\n",
    "            self.posEmbeddings[pos_tag] = np.random.rand(self.dimension)\n",
    "        return self.posEmbeddings[pos_tag]\n",
    "    \n",
    "    def embedSentence(self, sentence):\n",
    "        posTags = self.tagSentence(sentence)\n",
    "        posTagEmbeddings = [self.getEmbedding(tag) for _,tag in posTags]\n",
    "        return posTags, posTagEmbeddings"
   ]
  },
  {
   "cell_type": "code",
   "execution_count": null,
   "id": "881cfb1c",
   "metadata": {},
   "outputs": [],
   "source": [
    "pathToJar = \"../stanford-postagger-full-2020-11-17/stanford-postagger.jar\"\n",
    "pathToModel = \"../stanford-postagger-full-2020-11-17/models/english-bidirectional-distsim.tagger\"\n",
    "\n",
    "posTagger = POSTagEmbedder(pathToModel, pathToJar)"
   ]
  },
  {
   "cell_type": "code",
   "execution_count": null,
   "id": "7bd8bb3f",
   "metadata": {},
   "outputs": [],
   "source": [
    "example = \"The cat is sad due to rain\"\n",
    "posTags, tagEmbeddings = posTagger.embedSentence(example)\n",
    "print(posTags)\n",
    "print(tagEmbeddings)"
   ]
  }
 ],
 "metadata": {
  "kernelspec": {
   "display_name": "Python 3 (ipykernel)",
   "language": "python",
   "name": "python3"
  },
  "language_info": {
   "codemirror_mode": {
    "name": "ipython",
    "version": 3
   },
   "file_extension": ".py",
   "mimetype": "text/x-python",
   "name": "python",
   "nbconvert_exporter": "python",
   "pygments_lexer": "ipython3",
   "version": "3.9.13"
  }
 },
 "nbformat": 4,
 "nbformat_minor": 5
}
