{
 "cells": [
  {
   "cell_type": "markdown",
   "id": "73609b57",
   "metadata": {},
   "source": [
    "**QuickGO API data to SQLite DB for CONLL dataset entries**\n",
    "\n",
    "- This module calls the QuickGO API to fetch data on entities found in the MLEE conll dataset. First it finds the list of all entities, then it calls the QuickGO API to fetch additional data, which is then stored in SQLite.\n",
    "- The reason is that the HTTP API has its limits. It cannot be reliably called during the training/testing processes. It is better to store data in SQLite local instance and fetch the data as we needed.\n",
    "- This module should only run once to fetch the data. "
   ]
  },
  {
   "cell_type": "code",
   "execution_count": null,
   "id": "4ac66744",
   "metadata": {},
   "outputs": [],
   "source": [
    "import requests as http\n",
    "import sys\n",
    "import time\n",
    "import os\n",
    "import sqlite3"
   ]
  },
  {
   "cell_type": "code",
   "execution_count": null,
   "id": "62c8b392",
   "metadata": {},
   "outputs": [],
   "source": [
    "class CONLLQuickGOAPIToSQLiteDB:\n",
    "    \n",
    "    def __init__(self, input_dir, sqlite_path):\n",
    "        self.req_base_url = \"https://www.ebi.ac.uk/QuickGO/services/ontology/go/search?query=\"\n",
    "        self.req_suffix = \"&limit=1&page=1\"\n",
    "        self.req_headers = { \"Accept\" : \"application/json\"}\n",
    "        self.input_dir = input_dir\n",
    "        self.sqlite_conn = sqlite3.connect(sqlite_path)\n",
    "        self.token_entity_mappings = {}\n",
    "        \n",
    "    def call_QuickGO_API(self, entity):\n",
    "        request_FULL = self.req_base_url + entity + self.req_suffix\n",
    "        resp = http.get(request_FULL, self.req_headers)\n",
    "        if not resp.ok:\n",
    "            resp.raise_for_status()\n",
    "            sys.exit()\n",
    "        return resp.json()\n",
    "        \n",
    "    def extract_tokens_and_tags(self):\n",
    "        # This will extract all the tokens for which the tags != 'O' \n",
    "        num_files = 0\n",
    "        entity_types = set()\n",
    "        for dirpath, _, filenames in os.walk(self.input_dir):\n",
    "            for filename in filenames:\n",
    "                if filename.endswith(\".conll\"):\n",
    "                    num_files += 1\n",
    "                    file_path = os.path.join(dirpath, filename)\n",
    "                    with open(file_path, 'r', encoding='utf-8') as file:\n",
    "                        for line in file:\n",
    "                            if line.strip():  # non-empty line\n",
    "                                parts = line.split(\"\\t\")\n",
    "                                if len(parts) == 4:\n",
    "                                    token, entity_type = parts[0], parts[-1].strip()\n",
    "                                    if entity_type != 'O' and len(token) > 1:\n",
    "                                        entity_types.add(entity_type)\n",
    "                                        self.token_entity_mappings[token] = entity_type\n",
    "        \n",
    "        print(f\"Read {num_files} from the input_directory recursively. \")\n",
    "        print(f\"There are {len(self.token_entity_mappings)} TOKEN:ENTITY correspondances\")\n",
    "        print(f\"There are {len(entity_types)} unique entity types\")\n",
    "        \n",
    "    \n",
    "    def call_QuickGO_API_for_all_tokens(self):\n",
    "        # The API limits 200\n",
    "        print(f\"KBs Concept Embedding for detected CONLL tokens\")\n",
    "        request_count = 0;\n",
    "        for key, _ in self.token_entity_mappings.items():\n",
    "            request_count = request_count + 1\n",
    "            \n",
    "            token_response = self.call_QuickGO_API(key)\n",
    "            self.parse_and_save_to_DB(key, token_response)\n",
    "            \n",
    "            if request_count%50 == 0: # for compliance with QuickGO API terms\n",
    "                self.sqlite_conn.commit()\n",
    "                print(f\"Saved {request_count} responses to DB\")\n",
    "                time.sleep(1)\n",
    "        print(f\"Saved {request_count} responses to DB\")\n",
    "        self.sqlite_conn.commit()\n",
    "    \n",
    "    def parse_and_save_to_DB(self, key, response):\n",
    "        \n",
    "        if len(response[\"results\"]) == 1:\n",
    "            resp_info = response[\"results\"][0]\n",
    "            GO_id = resp_info[\"id\"]\n",
    "            GO_name = resp_info[\"name\"]\n",
    "            GO_definition = resp_info[\"definition\"][\"text\"]\n",
    "            GO_aspect = resp_info[\"aspect\"]\n",
    "            self.save_API_response_to_DB(key, GO_id, GO_name, GO_definition, GO_aspect)\n",
    "        else:\n",
    "            self.save_API_response_to_DB(key, \"\", \"\", \"\", \"\")\n",
    "            \n",
    "    \n",
    "    def save_API_response_to_DB(self, key, GO_id, GO_name, GO_definition, GO_aspect):\n",
    "        db_cursor = self.sqlite_conn.cursor()\n",
    "        db_cursor.execute('''\n",
    "        INSERT INTO QuickGOCONLL (entity, GO_id, GO_name, GO_definition, GO_aspect) VALUES (?, ?, ?, ?, ?)\n",
    "        ''', (key, GO_id, GO_name, GO_definition, GO_aspect))\n",
    "        \n",
    "                                        "
   ]
  },
  {
   "cell_type": "code",
   "execution_count": null,
   "id": "733c6ec1",
   "metadata": {},
   "outputs": [],
   "source": [
    "input_dir = '../BME Corpora/MLEE-1.0.2-rev1/conll'\n",
    "sqlite_path = '../QuickGO.db'"
   ]
  },
  {
   "cell_type": "code",
   "execution_count": null,
   "id": "4ddea4c6",
   "metadata": {},
   "outputs": [],
   "source": [
    "api_to_db = CONLLQuickGOAPIToSQLiteDB(input_dir, sqlite_path)\n",
    "test_API_response = api_to_db.call_QuickGO_API(\"VEGF\") # TEST\n",
    "print(test_API_response[\"results\"][0])"
   ]
  },
  {
   "cell_type": "code",
   "execution_count": null,
   "id": "bc86f033",
   "metadata": {},
   "outputs": [],
   "source": [
    "api_to_db.extract_tokens_and_tags()"
   ]
  },
  {
   "cell_type": "code",
   "execution_count": null,
   "id": "1d221226",
   "metadata": {
    "scrolled": true
   },
   "outputs": [],
   "source": [
    "api_to_db.call_QuickGO_API_for_all_tokens()"
   ]
  }
 ],
 "metadata": {
  "kernelspec": {
   "display_name": "Python 3 (ipykernel)",
   "language": "python",
   "name": "python3"
  },
  "language_info": {
   "codemirror_mode": {
    "name": "ipython",
    "version": 3
   },
   "file_extension": ".py",
   "mimetype": "text/x-python",
   "name": "python",
   "nbconvert_exporter": "python",
   "pygments_lexer": "ipython3",
   "version": "3.9.13"
  }
 },
 "nbformat": 4,
 "nbformat_minor": 5
}
