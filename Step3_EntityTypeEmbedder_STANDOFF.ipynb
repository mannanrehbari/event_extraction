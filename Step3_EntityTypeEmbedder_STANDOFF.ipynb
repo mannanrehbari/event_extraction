{
 "cells": [
  {
   "cell_type": "markdown",
   "id": "544773d1",
   "metadata": {},
   "source": [
    "**Entity type extraction and embedding: STANDOFF format**\n",
    "\n",
    "- Standoff dataset is formatted differently and the size of dataset is larger\n",
    "- This module reads the directory, extracts the entity:entity_type mappings, and create randomized embedding for all entity types. \n",
    "- It will also save the list of all unique entities so it can re-used in the KB concept embedding that utilizes external KB as a part of augmenting the embedding."
   ]
  },
  {
   "cell_type": "code",
   "execution_count": 1,
   "id": "6e425b86",
   "metadata": {},
   "outputs": [],
   "source": [
    "import os\n",
    "import numpy as np\n",
    "import itertools"
   ]
  },
  {
   "cell_type": "code",
   "execution_count": 2,
   "id": "688cec22",
   "metadata": {},
   "outputs": [],
   "source": [
    "class EntityTypeEmbedderSTANDOFF:\n",
    "    \n",
    "    def __init__(self, inputDir, embeddingDim=50):\n",
    "        self.embeddingDim = embeddingDim\n",
    "        self.entityEmbeddings = {}\n",
    "        self.tokenEntityMappings = {}\n",
    "        self.entityTypes = set()\n",
    "        self.inputDir = inputDir\n",
    "        self.extractTokenEntityMapping()\n",
    "    \n",
    "    def extractTokenEntityMapping(self):\n",
    "        numFiles = 0\n",
    "        for dirpath, _, filenames in os.walk(self.inputDir):\n",
    "            for filename in filenames:\n",
    "                if filename.endswith(\".ann\"):\n",
    "                    numFiles += 1\n",
    "                    filePath = os.path.join(dirpath, filename)\n",
    "                    with open(filePath, 'r', encoding='utf-8') as file:\n",
    "                        for line in file:\n",
    "                            if line.strip():  # non-empty line\n",
    "                                parts = line.split(\"\\t\")\n",
    "                                if len(parts) == 3 and parts[0][0] == \"T\":\n",
    "                                    token, entityTypeParts = parts[-1].strip(), parts[1]\n",
    "                                    middleParts = entityTypeParts.split()\n",
    "                                    entityType = middleParts[0]\n",
    "                                    self.tokenEntityMappings[token] = entityType\n",
    "                                    if entityType not in self.entityEmbeddings:\n",
    "                                        self.entityTypes.add(entityType)\n",
    "                                        self.entityEmbeddings[entityType] = np.random.rand(self.embeddingDim)\n",
    "        print(f\"Processed {numFiles} .ann files.\")\n",
    "        uniqueTokens = len(self.tokenEntityMappings)\n",
    "        uniqueEntities = len(self.entityTypes)\n",
    "        print(f\"Found {uniqueTokens} unique tokens which correspond to entities\")\n",
    "        print(f\"Found {uniqueEntities} unique entities\")\n",
    "\n",
    "    def get_embedding(self, token):\n",
    "        entityType = self.get_entity_type(token)\n",
    "        return self.entityEmbeddings.get(entityType, np.zeros(self.embeddingDim))\n",
    "    \n",
    "    def get_entity_type(self, token):\n",
    "        return self.tokenEntityMappings.get(token, 'None')\n",
    "    \n",
    "    def update_embedding(self, entityType, newEmbedding):\n",
    "        if entityType in self.entityEmbeddings:\n",
    "            self.entityEmbeddings[entityType] = newEmbedding\n",
    "        else:\n",
    "            raise ValueError(f\"Entity type {entityType} not in embeddings dictionary\")\n",
    "    \n",
    "    "
   ]
  },
  {
   "cell_type": "code",
   "execution_count": 3,
   "id": "706fed4c",
   "metadata": {},
   "outputs": [
    {
     "name": "stdout",
     "output_type": "stream",
     "text": [
      "Processed 262 .ann files.\n",
      "Found 3536 unique tokens which correspond to entities\n",
      "Found 45 unique entities\n"
     ]
    }
   ],
   "source": [
    "input_dir_path = '../BME Corpora/MLEE-1.0.2-rev1/standoff/full/'\n",
    "entity_type_embedder = EntityTypeEmbedderSTANDOFF(input_dir_path)"
   ]
  },
  {
   "cell_type": "code",
   "execution_count": 4,
   "id": "3876583c",
   "metadata": {},
   "outputs": [
    {
     "name": "stdout",
     "output_type": "stream",
     "text": [
      "{'DNA_methylation', 'Gene_expression', 'Planned_process', 'Cellular_component', 'Multi-tissue_structure', 'Drug_or_compound', 'Synthesis', 'Reproduction', 'Localization', 'Death', 'Pathway', 'Cell', 'Organism_subdivision', 'Acetylation', 'Breakdown', 'Positive_regulation', 'Developing_anatomical_structure', 'Translation', 'Organism', 'Blood_vessel_development', 'Phosphorylation', 'Immaterial_anatomical_entity', 'DNA_domain_or_region', 'Regulation', 'Organism_substance', 'Gene_or_gene_product', 'Cell_proliferation', 'Negative_regulation', 'Growth', 'Remodeling', 'Anatomical_system', 'Dissociation', 'Ubiquitination', 'Protein_domain_or_region', 'Transcription', 'Catabolism', 'Tissue', 'Cell_division', 'Binding', 'Organ', 'Protein_processing', 'Dephosphorylation', 'Metabolism', 'Development', 'Pathological_formation'}\n",
      "{'VEGF': 'Gene_or_gene_product', '-2': 'Gene_or_gene_product', 'angiopoietin-1': 'Gene_or_gene_product', 'microvascular': 'Tissue', 'Vascular endothelial growth factor': 'Gene_or_gene_product'}\n"
     ]
    }
   ],
   "source": [
    "print(entity_type_embedder.entityTypes)\n",
    "print(dict(itertools.islice(entity_type_embedder.tokenEntityMappings.items(), 5)))"
   ]
  },
  {
   "cell_type": "code",
   "execution_count": 5,
   "id": "e9d362e3",
   "metadata": {},
   "outputs": [
    {
     "name": "stdout",
     "output_type": "stream",
     "text": [
      "Organism\n",
      "Pathological_formation\n",
      "None\n"
     ]
    }
   ],
   "source": [
    "print(entity_type_embedder.get_entity_type(\"girl\"))\n",
    "print(entity_type_embedder.get_entity_type(\"scar\"))\n",
    "print(entity_type_embedder.get_entity_type(\"BUFFALO\"))"
   ]
  },
  {
   "cell_type": "code",
   "execution_count": 6,
   "id": "4d31ca21",
   "metadata": {},
   "outputs": [
    {
     "name": "stdout",
     "output_type": "stream",
     "text": [
      "[0.90381941 0.05520675 0.38885863 0.00775691 0.03873333 0.64282388\n",
      " 0.97901437 0.01757973 0.80937793 0.46586224 0.79950041 0.4997252\n",
      " 0.83540344 0.84451615 0.8190294  0.84905075 0.15398873 0.67135077\n",
      " 0.74806231 0.04269398 0.38782199 0.61625893 0.00886134 0.49772937\n",
      " 0.57221149 0.76673392 0.56187645 0.92328973 0.24910555 0.81654194\n",
      " 0.52101219 0.68948749 0.56536296 0.92562362 0.22437851 0.50551397\n",
      " 0.72594729 0.20374065 0.16094928 0.53240601 0.66624181 0.96269053\n",
      " 0.87685808 0.28532431 0.71548562 0.4110614  0.27166422 0.60736476\n",
      " 0.91969194 0.82832529]\n",
      "[0.20785141 0.94065014 0.26893111 0.38905696 0.18102632 0.73163603\n",
      " 0.43044407 0.09821244 0.34613842 0.49660312 0.53020372 0.69133059\n",
      " 0.68562232 0.94752974 0.31162893 0.71325262 0.79995115 0.89910447\n",
      " 0.21569636 0.97498468 0.48233304 0.79669675 0.55074161 0.61464306\n",
      " 0.5333954  0.49599483 0.20194718 0.72077952 0.71257108 0.70508043\n",
      " 0.16268669 0.57987631 0.54336759 0.84603937 0.30396602 0.26009342\n",
      " 0.51493521 0.67146664 0.48344693 0.50160485 0.80574025 0.25766284\n",
      " 0.48887954 0.59162242 0.72892615 0.9383459  0.98663574 0.99056245\n",
      " 0.00216671 0.17573223]\n",
      "[0. 0. 0. 0. 0. 0. 0. 0. 0. 0. 0. 0. 0. 0. 0. 0. 0. 0. 0. 0. 0. 0. 0. 0.\n",
      " 0. 0. 0. 0. 0. 0. 0. 0. 0. 0. 0. 0. 0. 0. 0. 0. 0. 0. 0. 0. 0. 0. 0. 0.\n",
      " 0. 0.]\n"
     ]
    }
   ],
   "source": [
    "print(entity_type_embedder.get_embedding(\"girl\"))\n",
    "print(entity_type_embedder.get_embedding(\"scar\"))\n",
    "print(entity_type_embedder.get_embedding(\"BUFFALO\"))"
   ]
  }
 ],
 "metadata": {
  "kernelspec": {
   "display_name": "Python 3 (ipykernel)",
   "language": "python",
   "name": "python3"
  },
  "language_info": {
   "codemirror_mode": {
    "name": "ipython",
    "version": 3
   },
   "file_extension": ".py",
   "mimetype": "text/x-python",
   "name": "python",
   "nbconvert_exporter": "python",
   "pygments_lexer": "ipython3",
   "version": "3.9.13"
  }
 },
 "nbformat": 4,
 "nbformat_minor": 5
}
