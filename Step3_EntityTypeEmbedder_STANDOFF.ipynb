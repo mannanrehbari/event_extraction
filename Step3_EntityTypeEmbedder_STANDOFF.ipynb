{
 "cells": [
  {
   "cell_type": "markdown",
   "id": "544773d1",
   "metadata": {},
   "source": [
    "**Entity type extraction and embedding: STANDOFF format**\n",
    "\n",
    "- Standoff dataset is formatted differently and the size of dataset is larger\n",
    "- This module reads the directory, extracts the entity:entity_type mappings, and create randomized embedding for all entity types. \n",
    "- It will also save the list of all unique entities so it can re-used in the KB concept embedding that utilizes external KB as a part of augmenting the embedding."
   ]
  },
  {
   "cell_type": "code",
   "execution_count": null,
   "id": "6e425b86",
   "metadata": {},
   "outputs": [],
   "source": [
    "import os\n",
    "import numpy as np\n",
    "import itertools"
   ]
  },
  {
   "cell_type": "code",
   "execution_count": null,
   "id": "688cec22",
   "metadata": {},
   "outputs": [],
   "source": [
    "class EntityTypeEmbedderSTANDOFF:\n",
    "    \n",
    "    def __init__(self, inputDir, embeddingDim=50):\n",
    "        self.embeddingDim = embeddingDim\n",
    "        self.entityEmbeddings = {}\n",
    "        self.tokenEntityMappings = {}\n",
    "        self.entityTypes = set()\n",
    "        self.inputDir = inputDir\n",
    "        self.extractTokenEntityMapping()\n",
    "    \n",
    "    def extractTokenEntityMapping(self):\n",
    "        numFiles = 0\n",
    "        for dirpath, _, filenames in os.walk(self.inputDir):\n",
    "            for filename in filenames:\n",
    "                if filename.endswith(\".ann\"):\n",
    "                    numFiles += 1\n",
    "                    filePath = os.path.join(dirpath, filename)\n",
    "                    with open(filePath, 'r', encoding='utf-8') as file:\n",
    "                        for line in file:\n",
    "                            if line.strip():  # non-empty line\n",
    "                                parts = line.split(\"\\t\")\n",
    "                                if len(parts) == 3 and parts[0][0] == \"T\":\n",
    "                                    token, entityTypeParts = parts[-1].strip(), parts[1]\n",
    "                                    middleParts = entityTypeParts.split()\n",
    "                                    entityType = middleParts[0]\n",
    "                                    self.tokenEntityMappings[token] = entityType\n",
    "                                    if entityType not in self.entityEmbeddings:\n",
    "                                        self.entityTypes.add(entityType)\n",
    "                                        self.entityEmbeddings[entityType] = np.random.rand(self.embeddingDim)\n",
    "        print(f\"Processed {numFiles} .ann files.\")\n",
    "        uniqueTokens = len(self.tokenEntityMappings)\n",
    "        uniqueEntities = len(self.entityTypes)\n",
    "        print(f\"Found {uniqueTokens} unique tokens which correspond to entities\")\n",
    "        print(f\"Found {uniqueEntities} unique entities\")\n",
    "\n",
    "    def get_embedding(self, token):\n",
    "        entityType = self.get_entity_type(token)\n",
    "        return self.entityEmbeddings.get(entityType, np.zeros(self.embeddingDim))\n",
    "    \n",
    "    def get_entity_type(self, token):\n",
    "        return self.tokenEntityMappings.get(token, 'None')\n",
    "    \n",
    "    def update_embedding(self, entityType, newEmbedding):\n",
    "        if entityType in self.entityEmbeddings:\n",
    "            self.entityEmbeddings[entityType] = newEmbedding\n",
    "        else:\n",
    "            raise ValueError(f\"Entity type {entityType} not in embeddings dictionary\")\n",
    "    \n",
    "    "
   ]
  },
  {
   "cell_type": "code",
   "execution_count": null,
   "id": "706fed4c",
   "metadata": {},
   "outputs": [],
   "source": [
    "input_dir_path = '../BME Corpora/MLEE-1.0.2-rev1/standoff/full/'\n",
    "entity_type_embedder = EntityTypeEmbedderSTANDOFF(input_dir_path)"
   ]
  },
  {
   "cell_type": "code",
   "execution_count": null,
   "id": "3876583c",
   "metadata": {},
   "outputs": [],
   "source": [
    "print(entity_type_embedder.entityTypes)\n",
    "print(dict(itertools.islice(entity_type_embedder.tokenEntityMappings.items(), 5)))"
   ]
  },
  {
   "cell_type": "code",
   "execution_count": null,
   "id": "e9d362e3",
   "metadata": {},
   "outputs": [],
   "source": [
    "print(entity_type_embedder.get_entity_type(\"girl\"))\n",
    "print(entity_type_embedder.get_entity_type(\"scar\"))\n",
    "print(entity_type_embedder.get_entity_type(\"BUFFALO\"))"
   ]
  },
  {
   "cell_type": "code",
   "execution_count": null,
   "id": "4d31ca21",
   "metadata": {},
   "outputs": [],
   "source": [
    "print(entity_type_embedder.get_embedding(\"girl\"))\n",
    "print(entity_type_embedder.get_embedding(\"scar\"))\n",
    "print(entity_type_embedder.get_embedding(\"BUFFALO\"))"
   ]
  }
 ],
 "metadata": {
  "kernelspec": {
   "display_name": "Python 3 (ipykernel)",
   "language": "python",
   "name": "python3"
  },
  "language_info": {
   "codemirror_mode": {
    "name": "ipython",
    "version": 3
   },
   "file_extension": ".py",
   "mimetype": "text/x-python",
   "name": "python",
   "nbconvert_exporter": "python",
   "pygments_lexer": "ipython3",
   "version": "3.9.13"
  }
 },
 "nbformat": 4,
 "nbformat_minor": 5
}
